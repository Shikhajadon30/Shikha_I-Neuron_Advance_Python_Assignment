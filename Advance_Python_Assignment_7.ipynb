{
 "cells": [
  {
   "cell_type": "markdown",
   "id": "5313ca11",
   "metadata": {},
   "source": [
    "Question:-Q1. What is the purpose of the try statement?\n",
    "    \n",
    "Answer:-The try block is used to check some code for errors i.e the code inside the try block will execute when there is no error in the program. Whereas the code inside the except block will execute whenever the program encounters some error in the preceding try block."
   ]
  },
  {
   "cell_type": "markdown",
   "id": "b17b08d3",
   "metadata": {},
   "source": [
    "Question:-Q2. What are the two most popular try statement variations?\n",
    "    \n",
    "Answer:-\n",
    "The try block lets you test a block of code for errors.\n",
    "\n",
    "The except block lets you handle the error.\n",
    "\n",
    "The else block lets you execute code when there is no error.\n",
    "\n",
    "The finally block lets you execute code, regardless of the result of the try- and except blocks.\n",
    "\n"
   ]
  },
  {
   "cell_type": "markdown",
   "id": "fdebf49b",
   "metadata": {},
   "source": [
    "Question:-Q3. What is the purpose of the raise statement?\n",
    "    \n",
    "Answer:- Python raise Keyword is used to raise exceptions or errors. The raise keyword raises an error and stops the control flow of the program. It is used to bring up the current exception in an exception handler so that it can be handled further up the call stack.\n",
    "\n",
    "Syntax of the raise keyword :\n",
    "\n",
    "raise  {name_of_ the_ exception_class}\n",
    "\n",
    "The basic way to raise an error is :\n",
    "\n",
    "raise Exception(“user text”)\n",
    "\n",
    "Advantages of the raise keyword:\n",
    "It helps us raise exceptions when we may run into situations where execution can’t proceed.\n",
    "It helps us reraise an exception that is caught.\n",
    "Raise allows us to throw one exception at any time.\n",
    "It is useful when we want to work with input validations."
   ]
  },
  {
   "cell_type": "markdown",
   "id": "3daf38db",
   "metadata": {},
   "source": [
    "Question:-Q4. What does the assert statement do, and what other statement is it like?\n",
    "    \n",
    "Answer:-Assertions are statements that assert or state a fact confidently in your program. For example, while writing a division function, you're confident the divisor shouldn't be zero, you assert divisor is not equal to zero.\n",
    "\n",
    "Assertions are simply boolean expressions that check if the conditions return true or not. If it is true, the program does nothing and moves to the next line of code. However, if it's false, the program stops and throws an error.\n",
    "\n",
    "It is also a debugging tool as it halts the program as soon as an error occurs and displays it."
   ]
  },
  {
   "cell_type": "markdown",
   "id": "5cf951ab",
   "metadata": {},
   "source": [
    "Question:-Q5. What is the purpose of the with/as argument, and what other statement is it like?\n",
    "    \n",
    "Answer:-In python the with keyword is used when working with unmanaged resources (like file streams). It is similar to the using statement in VB.NET and C#. It allows you to ensure that a resource is \"cleaned up\" when the code that uses it finishes running, even if exceptions are thrown. It provides 'syntactic sugar' for try/finally blocks."
   ]
  }
 ],
 "metadata": {
  "kernelspec": {
   "display_name": "Python 3 (ipykernel)",
   "language": "python",
   "name": "python3"
  },
  "language_info": {
   "codemirror_mode": {
    "name": "ipython",
    "version": 3
   },
   "file_extension": ".py",
   "mimetype": "text/x-python",
   "name": "python",
   "nbconvert_exporter": "python",
   "pygments_lexer": "ipython3",
   "version": "3.9.7"
  }
 },
 "nbformat": 4,
 "nbformat_minor": 5
}
