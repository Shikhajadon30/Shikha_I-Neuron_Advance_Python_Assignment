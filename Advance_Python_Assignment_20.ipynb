{
 "cells": [
  {
   "cell_type": "markdown",
   "id": "3be79d20",
   "metadata": {},
   "source": [
    "Question:-1. Compare and contrast the float and Decimal classes&#39; benefits and drawbacks.\n",
    "\n",
    "Answer:-DECIMAL and FLOAT both are used to store numerical values.\n",
    "Float is Approximate-number data type, which means that not all values in the data type range can be represented exactly , it round up the values.\n",
    "where as Decimal is Fixed-Precision data type, which means that all the values in the data type range can be represented exactly with precision and scale, it doesn’t round up the values.\n",
    "\n",
    "Syntax:\n",
    "1) Decimal( Precision, Scale)\n",
    "\n",
    "Here, Precision Means the total number of digits, both before and after the decimal point. The precision has a range from 1 to 38. The default precision is 38.\n",
    "\n",
    "and Scale is the number of digits after the decimal point.Scale can only be specified if Precision is specified. The scale must always be less than or equal to the precision.\n",
    "\n",
    "2)Float(n)\n",
    "\n",
    "In this case, the n indicates if the field will take up 4 or 8 bytes. The float data type supports values in these ranges -1.79E+308 to -2.23E-308, 0 and 2.23E-308 to 1.79E+308.\n",
    "\n",
    "If the number of characters in the scientific notation of the value is between 1 to 24 the precision is 7 digits and the storage is 4 bytes. If the number of characters in the scientific notation of the value is between 25 to 53 the precision is 15 digits and the storage is 8 bytes.\n",
    "\n",
    "Float is a single precision (32 bit) floating point data type and decimal is a 128-bit floating point data type.\n",
    "Floating point data type represent number values with fractional parts.\n",
    "Decimal accurately represent any number within the precision of the decimal format, whereas Float cannot accurately represent all numbers.\n",
    "Decimal used within financial applications that require a high degree of accuracy and easy to avoid rounding errors whereas Float used when you stores scientific numbers and for better performance.\n",
    "Performance of Decimals is slower than and float data types."
   ]
  },
  {
   "cell_type": "markdown",
   "id": "5fc2a6c6",
   "metadata": {},
   "source": [
    "Question:-2. Decimal('1.200') and Decimal('1.2') are two objects to consider. In what sense are these the same\n",
    "object? Are these just two ways of representing the exact same value, or do they correspond to\n",
    "different internal states?\n",
    "\n",
    "Answer:-"
   ]
  },
  {
   "cell_type": "markdown",
   "id": "a43b6244",
   "metadata": {},
   "source": [
    "Question:-3. What happens if the equality of Decimal('1.200') and Decimal('1.2') is checked?\n",
    "\n",
    "Answer:- compare() is a Decimal class method which compares the two Decimal values.\n",
    "\n",
    "Syntax: Decimal.compare()\n",
    "\n",
    "Parameter: Decimal values\n",
    "\n",
    "Return:\n",
    "1 – if a > b\n",
    "-1 – if a < b\n",
    "0 – if a = b"
   ]
  },
  {
   "cell_type": "markdown",
   "id": "ab83ce52",
   "metadata": {},
   "source": [
    "Question:-4. Why is it preferable to start a Decimal object with a string rather than a floating-point value?\n",
    "\n",
    "Answer:-Yes,Decimal instances can be constructed from integers, strings, floats, or tuples. Construction from an integer or a float performs an exact conversion of the value of that integer or float. Decimal numbers include special values such as NaN which stands for “Not a number”, positive and negative Infinity, and -0:"
   ]
  },
  {
   "cell_type": "markdown",
   "id": "764443c3",
   "metadata": {},
   "source": [
    "Question:-5. In an arithmetic phrase, how simple is it to combine Decimal objects with integers?\n",
    "\n",
    "Answer:-Decimal instances can be constructed from integers, strings, floats, or tuples. Construction from an integer  performs an exact conversion of the value of that integer . "
   ]
  },
  {
   "cell_type": "markdown",
   "id": "b96322d9",
   "metadata": {},
   "source": [
    "Question:-6. Can Decimal objects and floating-point values be combined easily?\n",
    "\n",
    "Answer:-Decimal objects cannot generally be combined with floats or instances of fractions.Fraction in arithmetic operations: an attempt to add a Decimal to a float, for example, will raise a TypeError. However, it is possible to use Python’s comparison operators to compare a Decimal instance x with another number y. This avoids confusing results when doing equality comparisons between numbers of different types."
   ]
  },
  {
   "cell_type": "markdown",
   "id": "fe6dc114",
   "metadata": {},
   "source": [
    "Question:-7. Using the Fraction class but not the Decimal class, give an example of a quantity that can be\n",
    "expressed with absolute precision.\n",
    "\n",
    "Answer:-This module provides support for rational number arithmetic. It allows to create a Fraction instance from integers, floats, numbers, decimals and strings. Fraction Instances : A Fraction instance can be constructed from a pair of integers, from another rational number, or from a string  Fraction instances are hashable, and should be treated as immutable.\n",
    "\n",
    "class fractions.Fraction(numerator=0, denominator=1) : This requires that numerator and denominator are instances of numbers. Rational and a fraction instance with value = (numerator/denominator) is returned. A zerodivision error is raised if denominator = 0. \n",
    "class fractions.Fraction(other_fraction) : This requires that other_fraction is instance of numbers.Rational and a fraction instance with same value is returned.\n",
    "class fractions.Fraction(float) : This requires the float instance and a fraction instance with same value is returned. \n",
    "from fractions import Fraction\n",
    " \n",
    "print (Fraction(1.13))\n",
    "#returns Fraction(1272266894732165, 1125899906842624)\n",
    "Output : \n",
    "1272266894732165/1125899906842624"
   ]
  },
  {
   "cell_type": "markdown",
   "id": "57a14faa",
   "metadata": {},
   "source": [
    "Question:-8. Describe a quantity that can be accurately expressed by the Decimal or Fraction classes but not by\n",
    "a floating-point value.\n",
    "\n",
    "Answer:-It is a floating decimal point type variable. Which means it represents a number using decimal numbers (0-9). It uses 128 bits(28-29 significant figures) for storing and representing data. Therefore, it has more precision than float and double. They are mostly used in financial applications because of their high precision and easy to avoid rounding errors.\n",
    "\n",
    "Comparison between Float, Double and Decimal on the Basis of : \n",
    "\n",
    "No. of Bits used –\n",
    "Float uses 32 bits to represent data.\n",
    "Double uses 64 bits to represent data.\n",
    "Decimal uses 128 bits to represent data.\n",
    "\n",
    "Range of values –\n",
    "The float value ranges from approximately ±1.5e-45 to ±3.4e38.\n",
    "The double value ranges from approximately ±5.0e-324 to ±1.7e308.\n",
    "The Decimal value ranges from approximately ±1.0e-28 to ±7.9e28.\n",
    "\n",
    "Precision –\n",
    "Float represent data with single precision.\n",
    "Double represent data with double precision.\n",
    "Decimal has higher precision than float and Double.\n",
    "\n",
    "Accuracy –\n",
    "Float is less accurate than Double and Decimal.\n",
    "Double is more accurate than Float but less accurate than Decimal.\n",
    "Decimal is more accurate than Float and Double.\n"
   ]
  },
  {
   "cell_type": "markdown",
   "id": "7f184a1f",
   "metadata": {},
   "source": [
    "Question:-Q9.Consider the following two fraction objects: Fraction(1, 2) and Fraction(1, 2). (5, 10). Is the internal\n",
    "state of these two objects the same? Why do you think that is?\n",
    "\n",
    "Answer:-Yes, Is the internal state of these two objects the same.\n",
    "        Equivalent fractions have same value in reduced form."
   ]
  },
  {
   "cell_type": "markdown",
   "id": "815c9a68",
   "metadata": {},
   "source": [
    "Question:-Q10. How do the Fraction class and the integer type (int) relate to each other? Containment or\n",
    "inheritance?\n",
    "\n",
    "Answer:-A Fraction instance can be constructed from a pair of integers\n",
    "class fractions.Fraction(numerator=0, denominator=1)\n",
    "\n",
    "Python provides operations involving fractional numbers through its fractions module. A fraction has a numerator and a denominator, both of which are integers.\n",
    "\n",
    "By Inheritance as it allows using properties and methods of an existing class in the new class.\n",
    "using properties and methods of an already existing class in a new class. The already existing class is the parent class, superclass, or the base class. We call this new class as subclass, derived class or child class. Moreover, by using inheritance, the programmer can use already an existing code in his new code. Therefore, inheritance allows code reusability.\n"
   ]
  }
 ],
 "metadata": {
  "kernelspec": {
   "display_name": "Python 3 (ipykernel)",
   "language": "python",
   "name": "python3"
  },
  "language_info": {
   "codemirror_mode": {
    "name": "ipython",
    "version": 3
   },
   "file_extension": ".py",
   "mimetype": "text/x-python",
   "name": "python",
   "nbconvert_exporter": "python",
   "pygments_lexer": "ipython3",
   "version": "3.9.7"
  }
 },
 "nbformat": 4,
 "nbformat_minor": 5
}
