{
 "cells": [
  {
   "cell_type": "raw",
   "id": "c64ebc1d",
   "metadata": {},
   "source": [
    "Question:-Q1. Describe three applications for exception processing.\n",
    "    \n",
    "Answer:-Exception handling allows you to separate error-handling code from normal code. An exception is a Python object which represents an error. As with code comments, exceptions helps you to remind yourself of what the program expects. It clarifies the code and enhances readability."
   ]
  },
  {
   "cell_type": "raw",
   "id": "bf384f10",
   "metadata": {},
   "source": [
    "Question:- 2.What happens if you don't do something extra to treat an exception?\n",
    "    \n",
    "Answer:-When an exception occurred, if you don’t handle it, the program terminates abruptly and the code past the line that caused the exception will not get executed.\n",
    "\n",
    "Example\n",
    "Generally, an array is of fixed size and each element is accessed using the indices. For example, we have created an array with size 7. Then the valid expressions to access the elements of this array will be a[0] to a[6] (length-1).\n",
    "\n",
    "Whenever, you used an –ve value or, the value greater than or equal to the size of the array, then the ArrayIndexOutOfBoundsException is thrown."
   ]
  },
  {
   "cell_type": "raw",
   "id": "5ac2104c",
   "metadata": {},
   "source": [
    "Question:-Q3. What are your options for recovering from an exception in your script?\n",
    "\n",
    "Answer:-The try-catch is the simplest method of handling exceptions. Put the code you want to run in the try block, and any exceptions that the code throws are caught by one or more catch blocks. This method will catch any type of exceptions that get thrown. This is the simplest mechanism for handling exceptions"
   ]
  },
  {
   "cell_type": "raw",
   "id": "3b0d61ec",
   "metadata": {},
   "source": [
    "Question:-Q4. Describe two methods for triggering exceptions in your script.\n",
    "    \n",
    "Answer:-there are two methods to handle Python exceptions:\n",
    "\n",
    "a).  Try – This method catches the exceptions raised by the program.\n",
    ">>> while True:\n",
    "...     try:\n",
    "...         x = int(input(\"Please enter a number: \"))\n",
    "...         break\n",
    "...     except ValueError:\n",
    "...         print(\"Oops!  That was no valid number.  Try again...\")\n",
    " The try statement works as follows.\n",
    "\n",
    "First, the try clause (the statement(s) between the try and except keywords) is executed.\n",
    "\n",
    "If no exception occurs, the except clause is skipped and execution of the try statement is finished.\n",
    "\n",
    "If an exception occurs during execution of the try clause, the rest of the clause is skipped. Then, if its type matches the exception named after the except keyword, the except clause is executed, and then execution continues after the try/except block.\n",
    "\n",
    "If an exception occurs which does not match the exception named in the except clause, it is passed on to outer try statements; if no handler is found, it is an unhandled exception and execution stops with a message as shown above.\n",
    "\n",
    "b).  Raise – Triggers an exception manually using custom exceptions.\n",
    " The raise statement allows the programmer to force a specified exception to occur. For example:\n",
    "\n",
    "\n",
    ">>> raise NameError('HiThere')\n",
    "Traceback (most recent call last):\n",
    "  File \"<stdin>\", line 1, in <module>\n",
    "NameError: HiThere\n",
    "The sole argument to raise indicates the exception to be raised. This must be either an exception instance or an exception class (a class that derives from Exception). If an exception class is passed, it will be implicitly instantiated by calling its constructor with no arguments:\n",
    "\n",
    "raise ValueError  # shorthand for 'raise ValueError()'"
   ]
  },
  {
   "cell_type": "raw",
   "id": "df6ca172",
   "metadata": {},
   "source": [
    "Question:-Q5. Identify two methods for specifying actions to be executed at termination time, regardless of\n",
    "whether or not an exception exists.\n",
    "\n",
    "Answer:- Python provides a keyword finally, which is always executed after the try and except blocks. The final block always executes after normal termination of try block or after try block terminates due to some exception.\n",
    "\n",
    "Syntax:\n",
    "\n",
    "try:\n",
    "    # Some Code.... \n",
    "\n",
    "except:\n",
    "    # optional block\n",
    "    # Handling of exception (if required)\n",
    "\n",
    "else:\n",
    "    # execute if no exception\n",
    "\n",
    "finally:\n",
    "    # Some code .....(always executed)"
   ]
  }
 ],
 "metadata": {
  "kernelspec": {
   "display_name": "Python 3 (ipykernel)",
   "language": "python",
   "name": "python3"
  },
  "language_info": {
   "codemirror_mode": {
    "name": "ipython",
    "version": 3
   },
   "file_extension": ".py",
   "mimetype": "text/x-python",
   "name": "python",
   "nbconvert_exporter": "python",
   "pygments_lexer": "ipython3",
   "version": "3.9.7"
  }
 },
 "nbformat": 4,
 "nbformat_minor": 5
}
