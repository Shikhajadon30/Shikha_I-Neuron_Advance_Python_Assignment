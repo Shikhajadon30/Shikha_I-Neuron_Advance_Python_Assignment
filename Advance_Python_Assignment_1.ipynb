{
 "cells": [
  {
   "cell_type": "raw",
   "id": "24d179f7",
   "metadata": {},
   "source": [
    "Question:- 1.What is the purpose of Python&#39;s OOP?\n",
    "\n",
    "Answer:- Object-Oriented Programming makes the program easy to understand as well as efficient. Since the class is sharable, the code can be reused. Data is safe and secure with data abstraction. Polymorphism allows the same interface for different objects, so programmers can write efficient code."
   ]
  },
  {
   "cell_type": "raw",
   "id": "8431732a",
   "metadata": {},
   "source": [
    "Question:-Q2. Where does an inheritance search look for an attribute?\n",
    "\n",
    "Answer:-The whole point of a namespace tool like the class statement is to support name inheritance. In Python, inheritance happens when an object is qualified, and involves searching an attribute definition tree (one or more namespaces). Every time you use an expression of the form object."
   ]
  },
  {
   "cell_type": "raw",
   "id": "4d7e9ae5",
   "metadata": {},
   "source": [
    "Question:-Q3. How do you distinguish between a class object and an instance object?\n",
    "\n",
    "Answer:-Class : A class is a blue print. \n",
    "        Object : It is the copy of the class. \n",
    "        Instance : Its a variable which is used to hold memory address of the object."
   ]
  },
  {
   "cell_type": "raw",
   "id": "10f0b45a",
   "metadata": {},
   "source": [
    "Question:- Q4. What makes the first argument in a class’s method function special?\n",
    "\n",
    "Answer:-The first argument of every class method, including init, is always a reference to the current instance of the class. By convention, this argument is always named self. In the init method, self refers to the newly created object; in other class methods, it refers to the instance whose method was called."
   ]
  },
  {
   "cell_type": "raw",
   "id": "8a2e47ec",
   "metadata": {},
   "source": [
    "Question:- Q5. What is the purpose of the __init__ method?\n",
    "\n",
    "Answer:-The __init__ method is the Python equivalent of the C++ constructor in an object-oriented approach. The __init__ function is called every time an object is created from a class. The __init__ method lets the class initialize the object's attributes and serves no other purpose. It is only used within classes."
   ]
  },
  {
   "cell_type": "raw",
   "id": "980c4e64",
   "metadata": {},
   "source": [
    "Question:-Q6. What is the process for creating a class instance?\n",
    "\n",
    "Answer:- Use the class name to create a new instance\n",
    "Call ClassName() to create a new instance of the class ClassName . To pass parameters to the class instance, the class must have an __init__() method. Pass the parameters in the constructor of the class."
   ]
  },
  {
   "cell_type": "raw",
   "id": "d5823ddc",
   "metadata": {},
   "source": [
    "Question:-Q7. What is the process for creating a class?\n",
    "\n",
    "Answer:-In Python, a class can be created by using the keyword class, followed by the class name. The syntax to create a class is given below. In Python, we must notice that each class is associated with a documentation string which can be accessed by using <class-name>."
   ]
  },
  {
   "cell_type": "raw",
   "id": "16a682b7",
   "metadata": {},
   "source": [
    "Question:-Q8. How would you define the superclasses of a class?\n",
    "    \n",
    "Answer:-The class from which a class inherits is called the parent or superclass. A class which inherits from a superclass is called a subclass, also called heir class or child class. Superclasses are sometimes called ancestors as well. There exists a hierarchical relationship between classes."
   ]
  }
 ],
 "metadata": {
  "kernelspec": {
   "display_name": "Python 3 (ipykernel)",
   "language": "python",
   "name": "python3"
  },
  "language_info": {
   "codemirror_mode": {
    "name": "ipython",
    "version": 3
   },
   "file_extension": ".py",
   "mimetype": "text/x-python",
   "name": "python",
   "nbconvert_exporter": "python",
   "pygments_lexer": "ipython3",
   "version": "3.9.7"
  }
 },
 "nbformat": 4,
 "nbformat_minor": 5
}
