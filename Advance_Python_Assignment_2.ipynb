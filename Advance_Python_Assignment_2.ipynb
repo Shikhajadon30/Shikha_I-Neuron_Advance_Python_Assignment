{
 "cells": [
  {
   "cell_type": "raw",
   "id": "3a35206d",
   "metadata": {},
   "source": [
    "Question:-Q1. What is the relationship between classes and modules?\n",
    "\n",
    "Answer:-Classes may generate instances (objects), and have per-instance state (instance variables). Modules may be mixed in to classes and other modules. The mixed in module's constants and methods blend into that class's own, augmenting the class's functionality. Classes, however, cannot be mixed in to anything."
   ]
  },
  {
   "cell_type": "raw",
   "id": "75802764",
   "metadata": {},
   "source": [
    "Question:-Q2. How do you make instances and classes?\n",
    "\n",
    "Answer:-In Python, a class can be created by using the keyword class, followed by the class name. The syntax to create a class is given below. In Python, we must notice that each class is associated with a documentation string which can be accessed by using <class-name>.\n",
    "\n",
    "Call ClassName() to create a new instance of the class ClassName . To pass parameters to the class instance, the class must have an __init__() method. Pass the parameters in the constructor of the class."
   ]
  },
  {
   "cell_type": "raw",
   "id": "43f8fc3b",
   "metadata": {},
   "source": [
    "Question:-Q3. Where and how should be class attributes created?\n",
    "\n",
    "Answer:-Class attributes belong to the class itself they will be shared by all the instances. Such attributes are defined in the class body parts usually at the top, for legibility. Unlike class attributes, instance attributes are not shared by objects."
   ]
  },
  {
   "cell_type": "raw",
   "id": "1fc26bcc",
   "metadata": {},
   "source": [
    "Question:-Q4. Where and how are instance attributes created?\n",
    "\n",
    "Answer:-An instance attribute is a Python variable belonging to one, and only one, object. This variable is only accessible in the scope of this object and it is defined inside the constructor function, __init__(self,..) of the class."
   ]
  },
  {
   "cell_type": "raw",
   "id": "87200a5b",
   "metadata": {},
   "source": [
    "Question:-Q5. What does the term &quot;self&quot; in a Python class mean?\n",
    "\n",
    "Answer:-In Python, the word self is the first parameter of methods that represents the instance of the class. Therefore, in order to call attributes and methods of a class, the programmer needs to use self ."
   ]
  },
  {
   "cell_type": "raw",
   "id": "d3adcf60",
   "metadata": {},
   "source": [
    "Question:-Q6. How does a Python class handle operator overloading?\n",
    "\n",
    "Answer:-To perform operator overloading, Python provides some special function or magic function that is automatically invoked when it is associated with that particular operator. For example, when we use + operator, the magic method __add__ is automatically invoked in which the operation for + operator is defined."
   ]
  },
  {
   "cell_type": "raw",
   "id": "4d40b4e7",
   "metadata": {},
   "source": [
    "Question:-Q7. When do you consider allowing operator overloading of your classes?\n",
    "\n",
    "Answer:-The operator overloading in Python means provide extended meaning beyond their predefined operational meaning. Such as, we use the \"+\" operator for adding two integers as well as joining two strings or merging two lists. We can achieve this as the \"+\" operator is overloaded by the \"int\" class and \"str\" class."
   ]
  },
  {
   "cell_type": "raw",
   "id": "1ec2a210",
   "metadata": {},
   "source": [
    "Question:-Q8. What is the most popular form of operator overloading?\n",
    "\n",
    "Answer:-Operator overloading in Python is the ability of a single operator to perform more than one operation based on the class (type) of operands. For example, the + operator can be used to add two numbers, concatenate two strings or merge two lists."
   ]
  },
  {
   "cell_type": "raw",
   "id": "d7ae6e1e",
   "metadata": {},
   "source": [
    "Question:-Q9. What are the two most important concepts to grasp in order to comprehend Python OOP code?\n",
    "\n",
    "Answer:-two key concepts of OOP which are inheritance and polymorphism. Both inheritance and polymorphism are key ingredients for designing robust, flexible, and easy-to-maintain software."
   ]
  }
 ],
 "metadata": {
  "kernelspec": {
   "display_name": "Python 3 (ipykernel)",
   "language": "python",
   "name": "python3"
  },
  "language_info": {
   "codemirror_mode": {
    "name": "ipython",
    "version": 3
   },
   "file_extension": ".py",
   "mimetype": "text/x-python",
   "name": "python",
   "nbconvert_exporter": "python",
   "pygments_lexer": "ipython3",
   "version": "3.9.7"
  }
 },
 "nbformat": 4,
 "nbformat_minor": 5
}
