{
 "cells": [
  {
   "cell_type": "markdown",
   "id": "6d5760f2",
   "metadata": {},
   "source": [
    "Question:-Q1. What is the benefit of regular expressions?\n",
    "\n",
    "Answer:-Regular Expressions can be used to search, edit and manipulate text. This opens up a vast variety of applications in all of the sub-domains under Python. Python RegEx is widely used by almost all of the startups and has good industry traction for their applications as well as making Regular Expressions an asset for the modern day programmer.\n",
    "A Regular Expression is used for identifying a search pattern in a text string. It also helps in finding out the correctness of the data and even operations such as finding, replacing and formatting the data is possible using Regular Expressions.\n",
    "Regular Expressions can be used in this case to recognize the patterns and extract the required information easily.\n",
    "We can make use of Regular Expressions you can verify the format of the email addresses and filter out the fake IDs from the genuine ones."
   ]
  },
  {
   "cell_type": "markdown",
   "id": "b07308f1",
   "metadata": {},
   "source": [
    "Question:-\n",
    "\n",
    "Answer:-"
   ]
  },
  {
   "cell_type": "markdown",
   "id": "8108d3a6",
   "metadata": {},
   "source": [
    "Question:-Q3. How much do you need to use the following sentence while using regular expressions?\n",
    "\n",
    "Answer:-Python has a built-in package called re, which can be used to work with Regular Expressions.\n",
    "\n",
    "Import the re module:\n",
    "\n",
    "import re\n",
    "\n",
    "The re module offers a set of functions that allows us to search a string for a match:\n",
    "\n",
    "Function\tDescription\n",
    "findall\t--- Returns a list containing all matches\n",
    "search\t--- Returns a Match object if there is a match anywhere in the string\n",
    "split\t--- Returns a list where the string has been split at each match\n",
    "sub\tReplaces one or many matches with a string"
   ]
  },
  {
   "cell_type": "markdown",
   "id": "0460c51c",
   "metadata": {},
   "source": [
    "Question:-Q4. Which characters have special significance in square brackets when expressing a range, and\n",
    "under what circumstances?\n",
    "\n",
    "Answer:-Square brackets match something that you kind of don't know about a string you're looking for. If you are searching for a name in a string but you're not sure of the exact name you could use instead of that letter a square bracket. Everything you put inside these brackets are alternatives in place of one character.\n",
    "A set is a set of characters inside a pair of square brackets [] with a special meaning:\n",
    "\n",
    "[arn]\tReturns a match where one of the specified characters (a, r, or n) are present\t\n",
    "[a-n]\tReturns a match for any lower case character, alphabetically between a and n\t\n",
    "[^arn]\tReturns a match for any character EXCEPT a, r, and n\t\n",
    "[0123]\tReturns a match where any of the specified digits (0, 1, 2, or 3) are present\t\n",
    "[0-9]\tReturns a match for any digit between 0 and 9\t\n",
    "[0-5][0-9]\tReturns a match for any two-digit numbers from 00 and 59\t\n",
    "[a-zA-Z]\tReturns a match for any character alphabetically between a and z, lower case OR upper case\t\n",
    "[+]\tIn sets, +, *, ., |, (), $,{} has no special meaning, so [+] means: return a match for any + character in the string"
   ]
  },
  {
   "cell_type": "markdown",
   "id": "72f01728",
   "metadata": {},
   "source": [
    "Question:-Q5. How does compiling a regular-expression object benefit you?\n",
    "\n",
    "Answer:-Performance improvement\n",
    "\n",
    "Compiling regular expression objects is useful and efficient when the expression will be used several times in a single program.\n",
    "\n",
    "Keep in mind that the compile() method is useful for defining and creating regular expressions object initially and then using that object we can look for occurrences of the same pattern inside various target strings without rewriting it which saves time and improves performance.\n",
    "\n",
    "Readability\n",
    "\n",
    "Another benefit is readability. Using re.compile() you can separate the definition of the regex from its use.\n",
    "\n",
    "For example:\n",
    "\n",
    "pattern= re.compile(\"str_pattern\")\n",
    "result = pattern.match(string)\n",
    "is equivalent to\n",
    "\n",
    "result = re.match(\"str_pattern\", string)\n",
    "Avoid using the compile() method when you want to search for various patterns inside the single target string. You do not need to use the compile method beforehand because the compiling is done automatically with the execution of other regex methods.\n",
    "t denotes that the compiled regular expressions will be used a lot and is not meant to be removed.\n",
    "By compiling once and re-using the same regex multiple times, we reduce the possibility of typos.\n",
    "When you are using lots of different regexes, you should keep your compiled expressions for those which are used multiple times, so they’re not flushed out of the regex cache when the cache is full"
   ]
  },
  {
   "cell_type": "markdown",
   "id": "d450e32b",
   "metadata": {},
   "source": [
    "Question:-Q6. What are some examples of how to use the match object returned by re.match and re.search?\n",
    "\n",
    "Answer:-Python re.match() method looks for the regex pattern only at the beginning of the target string and returns match object if match found; otherwise, it will return None.\n",
    "\n",
    "The re.match() method will start matching a regex pattern from the very first character of the text, and if the match found, it will return a re.Match object. Later we can use the re.Match object to extract the matching string.\n",
    "\n",
    "re.match(pattern, str)-----\tMatches pattern only at the beginning of the string\n",
    "re.search(pattern, str)----\tMatches pattern anywhere in the string. Return only first match\n",
    "re.search(pattern$, str)---\tDollar ($) matches pattern at the end of the string.\n",
    "\n",
    "If zero or more characters at the beginning of the string match the regular expression pattern, It returns a corresponding match object instance i.e., re.Match object. The match object contains the locations at which the match starts and ends and the actual match value.\n",
    "\n",
    "If it fails to locate the occurrences of the pattern that we want to find or such a pattern doesn’t exist in a target string it will return a None type"
   ]
  },
  {
   "cell_type": "markdown",
   "id": "0b86a629",
   "metadata": {},
   "source": [
    "Q7. What is the difference between using a vertical bar (|) as an alteration and using square brackets\n",
    "as a character set?\n",
    "\n",
    "Answer:-The special character standing or vertical bar is used for alteration. The standing bar also works as ‘or’ operation.\n",
    "\n",
    "Expression \tString \tMatched\n",
    "pqr\tNo match\n",
    "x|y\txaz\t1 match \n",
    "wxypyz\t2 matches\n",
    "\n",
    "[ ] - Square brackets\n",
    "Square brackets specify a set of characters you wish to match.\n",
    "\n",
    "Here, [abc] will match if the string you are trying to match contains any of the a, b or c.\n",
    "\n",
    "You can also specify a range of characters using - inside square brackets.\n",
    "\n",
    "[a-e] is the same as [abcde]\n",
    "[1-4] is the same as [1234]\n",
    "[0-39] is the same as [01239]\n",
    "\n",
    "You can complement (invert) the character set by using caret ^ symbol at the start of a square-bracket.\n",
    "\n",
    "[^abc] means any character except a or b or c.\n",
    "[^0-9] means any non-digit character."
   ]
  },
  {
   "cell_type": "markdown",
   "id": "ec544048",
   "metadata": {},
   "source": [
    "Question:-Q8. In regular-expression search patterns, why is it necessary to use the raw-string indicator (r)? In  \n",
    "replacement strings?\n",
    "\n",
    "Answer:-In Python, strings prefixed with r or R, such as r'...' and r\"...\", are called raw strings and treat backslashes \\ as literal characters. Raw strings are useful when handling strings that use a lot of backslashes, such as Windows paths and regular expression patterns.\n",
    "Raw strings treat backslashes as literal characters\n",
    "Strings prefixed with r or R, such as r'...' and r\"...\", are called raw strings and treat backslashes \\ as literal characters. In raw strings, escape sequences are not treated specially.\n",
    "\n",
    "rs = r'a\\tb\\nA\\tB'\n",
    "print(rs)\n",
    "In a normal string, an escape sequence is considered to be one character, but in a raw string, backslashes are also counted as characters."
   ]
  }
 ],
 "metadata": {
  "kernelspec": {
   "display_name": "Python 3 (ipykernel)",
   "language": "python",
   "name": "python3"
  },
  "language_info": {
   "codemirror_mode": {
    "name": "ipython",
    "version": 3
   },
   "file_extension": ".py",
   "mimetype": "text/x-python",
   "name": "python",
   "nbconvert_exporter": "python",
   "pygments_lexer": "ipython3",
   "version": "3.9.7"
  }
 },
 "nbformat": 4,
 "nbformat_minor": 5
}
