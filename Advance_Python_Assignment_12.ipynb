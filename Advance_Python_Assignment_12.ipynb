{
 "cells": [
  {
   "cell_type": "markdown",
   "id": "54e5f1dd",
   "metadata": {},
   "source": [
    "Question:-Does assigning a value to a string's indexed character violate Python&#39;s string immutability?\n",
    "\n",
    "Answer:- In Python, a string is immutable. We cannot overwrite the values of immutable objects. However, you can assign the variable again. It's not modifying the string object; it's creating a new string object."
   ]
  },
  {
   "cell_type": "markdown",
   "id": "9062e276",
   "metadata": {},
   "source": [
    "Question:-Q2. Does using the += operator to concatenate strings violate Python&#39;s string immutability? Why or\n",
    "why not?\n",
    "\n",
    "Answer:-\n",
    "It violates the rules of how ID values and += are supposed to work - the ID values produced with the optimization in place would be not only impossible, but prohibited, with the unoptimized semantics - but the developers care more about people who would see bad concatenation performance\n",
    "    "
   ]
  },
  {
   "cell_type": "markdown",
   "id": "bb7070aa",
   "metadata": {},
   "source": [
    "Question:-Q3. In Python, how many different ways are there to index a character?\n",
    "    \n",
    "Answer:- We can access characters in a String in Two ways : Accessing Characters by Positive Index Number. Accessing Characters by Negative Index Number.\n",
    "\n",
    "1. Accessing Characters by Positive Index Number: In this type of Indexing, we pass a Positive index(which we want to access) in square brackets. The index number starts from index number 0 (which denotes the first character of a string).\n",
    "\n",
    "Accessing Characters by Negative Index Number: In this type of Indexing, we pass the Negative index(which we want to access) in square brackets. Here the index number starts from index number -1 (which denotes the last character of a string).\n"
   ]
  },
  {
   "cell_type": "markdown",
   "id": "f929cb3f",
   "metadata": {},
   "source": [
    "Question:-Q4. What is the relationship between indexing and slicing?\n",
    "\n",
    "Indexing means refering to each element of a sequence using a value through which we can access that element from the sequence. Index value always starts from 0 and end at no. of elements-1.\n",
    "Negative indexing:-\n",
    "\n",
    "Python allows us negative indexing. Here negative indexing means the last element in the sequence will have index -1 as negative index similarly second last element will have the index -2 , third last element will have the index as -3 and so on. The below example shows you the better explanation of negative indexing\n",
    "\n",
    "Slicing in python:-\n",
    "\n",
    "\n",
    "Slicing is a feature in python that enables us to get a subset of a sequence like string or list. We can see the example of slicing in below code:\n",
    "\n",
    "Syntax : seq_name[start:end:step]\n",
    "Start:- it contains the index of starting value from where you want sequence.\n",
    "End:- It contains the index of last value at which you want to stop.\n",
    "Step:- It contains the no. of step you want to move after a value.\n",
    "Note:- slicing ignores the last index as if index is l[0:5:1] it will show values from index 0 to 4."
   ]
  },
  {
   "cell_type": "markdown",
   "id": "62902e3c",
   "metadata": {},
   "source": [
    "Question:-Q5. What is an indexed character's exact data type? What is the data form of a slicing-generated\n",
    "substring?\n",
    "\n",
    "Answer:-Indexing allows you to access individual characters in a string directly by using a numeric value. String indexing is zero-based: the first character in the string has index 0, the next is 1, and so on.\n",
    "\n",
    "Python slicing is about obtaining a sub-string from the given string by slicing it respectively from start to end.\n",
    "Python slicing can be done in two ways.\n",
    "\n",
    "slice() Constructor\n",
    "Extending Indexing\n",
    "slice() Constructor\n",
    "The slice() constructor creates a slice object representing the set of indices specified by range(start, stop, step).\n",
    "\n",
    "Extending indexing\n",
    "In Python, indexing syntax can be used as a substitute for the slice object. This is an easy and convenient way to slice a string both syntax wise and execution wise.\n",
    "\n",
    "Syntax\n",
    "\n",
    "string[start:end:step]\n",
    "start, end and step have the same mechanism as slice() constructor."
   ]
  },
  {
   "cell_type": "markdown",
   "id": "3c12e008",
   "metadata": {},
   "source": [
    "Question:-Q6. What is the relationship between string and character \"types\" in Python?\n",
    "\n",
    "Answer:-In Python, Strings are arrays of bytes representing Unicode characters. However, Python does not have a character data type, a single character is simply a string with a length of 1. Square brackets can be used to access elements of the string."
   ]
  },
  {
   "cell_type": "markdown",
   "id": "0d44e280",
   "metadata": {},
   "source": [
    "Question:-Q7. Identify at least two operators and one method that allow you to combine one or more smaller\n",
    "strings to create a larger string.\n",
    "\n",
    "Answer:-Python comprises of a number of ways when it comes to concatenate or combine strings together. Since Python is an object-oriented programming language, everything in Python is an object. So, the new string that is created after concatenation is also referred to as a string object in Python.  \n",
    "\n",
    "           Using the + operator \n",
    "The simplest and most common method of concatenating a string is using the plus symbol (“+”). Let us see an example to understand it better: \n",
    "a = “Python” \n",
    "b = “is” \n",
    "c = “cool” \n",
    "print(a + b + c) \n",
    "\n",
    "           Using the * operator \n",
    "The asterisk (*) operator is used when you want to concatenate the same string repeatedly. For example, if you have a string “red” and you want the same string to be concatenated three times, you use the * operator. The result will be “redredred”.  \n",
    "\n",
    "An example to illustrate concatenation of string using “*” operator: \n",
    "\n",
    "a = \"Python\" \n",
    "print(a * 3) \n",
    "\n",
    "            Using the % operator \n",
    "The modulus operator (“%”) can be used for both string formatting and string concatenation. It is useful for cases in which you need to combine strings and also perform basic formatting. \n",
    "\n",
    "An example to illustrate concatenation of string using “%” operator: \n",
    "\n",
    "a = \"Apple\" \n",
    "b = \"Shake\" \n",
    "print(“% s % s” % (a, b)) \n",
    "\n",
    "            Using the format() function \n",
    "The str.format() function is a powerful function in Python which is also used for both String formatting and String Concatenation. This function combines different elements within a string through positional formatting.     \n",
    "\n",
    "An example to illustrate concatenation of string using format() function: \n",
    "\n",
    "a = \"Virgin\" \n",
    "b = \"Mojito\" \n",
    "print(“{} {}”.format(a, b)) \n",
    "\n",
    "             Using the join() method \n",
    "The join() method is the most flexible way of concatenating strings in Python. If you have many strings and you want to combine them together, use thejoin() method. It is a string method and the most interesting thing about join() is that you can combine strings using a separator. It works on iterators like lists, tuples, string, dictionaries, etc.  \n",
    "\n",
    "An example to illustrate concatenation of string using “*” operator: \n",
    "\n",
    "a = \"Welcome\" \n",
    "b = \"to\" \n",
    "c = \"Python\" \n",
    "print(“-”.join([a,b,c])) "
   ]
  },
  {
   "cell_type": "markdown",
   "id": "94b5f258",
   "metadata": {},
   "source": [
    "Question:-Q8. What is the benefit of first checking the target string with in or not in before using the index\n",
    "method to find a substring?\n",
    "\n",
    "Aswer:-can use contains(), indexOf() and lastIndexOf() method to check if one String contains another String. If a String contains another String then it's known as a substring. The indexOf() method accepts a String and returns the starting position of the string if it exists, otherwise, it will return -1."
   ]
  },
  {
   "cell_type": "markdown",
   "id": "debd2eb2",
   "metadata": {},
   "source": [
    "Question:-Q9. Which operators and built-in string methods produce simple Boolean (true/false) results?\n",
    "    \n",
    "Answer-The logical operators and, or and not are also referred to as boolean operators. While and as well as or operator needs two operands, which may evaluate to true or false, not operator needs one operand evaluating to true or false. Boolean and operator returns true if both operands return true.\n",
    "\n",
    "Boolean Methods\n",
    "\n",
    "Python has some string methods that will evaluate to a Boolean value. These methods are useful when we are creating forms for users to fill in, for example. If we are asking for a post code we will only want to accept a numeric string, but when we are asking for a name, we will only want to accept an alphabetic string.\n",
    "\n",
    "There are a number of string methods that will return Boolean values:\n",
    "\n",
    "Method\tTrue if\n",
    "str.isalnum()\tString consists of only alphanumeric characters (no symbols)\n",
    "str.isalpha()\tString consists of only alphabetic characters (no symbols)\n",
    "str.islower()\tString’s alphabetic characters are all lower case\n",
    "str.isnumeric()\tString consists of only numeric characters\n",
    "str.isspace()\tString consists of only whitespace characters\n",
    "str.istitle()\tString is in title case\n",
    "str.isupper()\tString’s alphabetic characters are all upper case\n",
    "Let’s review a couple of these in action:\n",
    "\n",
    "number = \"5\"\n",
    "letters = \"abcdef\"\n",
    "\n",
    "print(number.isnumeric())\n",
    "print(letters.isnumeric())\n",
    "Output\n",
    "True\n",
    "False"
   ]
  }
 ],
 "metadata": {
  "kernelspec": {
   "display_name": "Python 3 (ipykernel)",
   "language": "python",
   "name": "python3"
  },
  "language_info": {
   "codemirror_mode": {
    "name": "ipython",
    "version": 3
   },
   "file_extension": ".py",
   "mimetype": "text/x-python",
   "name": "python",
   "nbconvert_exporter": "python",
   "pygments_lexer": "ipython3",
   "version": "3.9.7"
  }
 },
 "nbformat": 4,
 "nbformat_minor": 5
}
