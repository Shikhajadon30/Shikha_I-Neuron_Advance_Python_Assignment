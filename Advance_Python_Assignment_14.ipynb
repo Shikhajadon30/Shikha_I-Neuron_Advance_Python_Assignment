{
 "cells": [
  {
   "cell_type": "markdown",
   "id": "13f4711f",
   "metadata": {},
   "source": [
    "Question:-Q1. Is an assignment operator like += only for show? Is it possible that it would lead to faster results\n",
    "at the runtime?\n",
    "\n",
    "Answer:-The Python += Operator. The Python += operator adds two values together and assigns the final value to a variable. This operator is called the addition assignment operator. This operator is often used to add values to a counter variable that tracks how many times something has happened."
   ]
  },
  {
   "cell_type": "markdown",
   "id": "79434d32",
   "metadata": {},
   "source": [
    "Question:-Q2. What is the smallest number of statements you have to write in most programming languages to\n",
    "replace the Python expression a, b = a + b, a?\n",
    "\n",
    "Answer:-An Expression is a sequence or combination of values, variables, operators and function calls that always produces or returns a result value. In the above example x , y and z are variables, 5 and 3 are values, = and + are operators."
   ]
  },
  {
   "cell_type": "markdown",
   "id": "d8bff9a4",
   "metadata": {},
   "source": [
    "Question:-Q3. In Python, what is the most effective way to set a list of 100 integers to 0?\n",
    "\n",
    "Answer:-to create a list from 1 to 100 in Python. The first method involves the range() function to create a sequence and convert it to a list using the list() function. The numpy.arange() function creates the sequence in an array, and we can convert this to a list with the tolist() function. We can also use the for loop for this. If we intend to use the for loop method, one should focus on list comprehension to make the code faster.\n",
    " \n",
    "lst = list(range(0,100))\n",
    "print(lst)   "
   ]
  },
  {
   "cell_type": "code",
   "execution_count": null,
   "id": "c3ab2419",
   "metadata": {},
   "outputs": [],
   "source": [
    "Question:-Q4. What is the most effective way to initialise a list of 99 integers that repeats the sequence 1, 2, 3?\n",
    "S If necessary, show step-by-step instructions on how to accomplish this.\n",
    "\n",
    "Answer:- \n",
    "    \n",
    "    import numpy as np\n",
    "x = [1,2,3]\n",
    "y = np.linspace(0,100,100)\n",
    "for i in x:\n",
    "    new_x = np.repeat(i,len(y))\n",
    "    print(new_x)"
   ]
  },
  {
   "cell_type": "markdown",
   "id": "c42ac8bc",
   "metadata": {},
   "source": [
    "Question:-Q5. If you're using IDLE to run a Python application, explain how to print a multidimensional list as\n",
    "efficiently?\n",
    "\n",
    "Answer:-\n",
    "To print out the entire multidimension dimensional array we can use python for loop as shown below. We use end of line to print out the values in different rows.\n",
    "\n",
    "Example\n",
    "from array import *\n",
    "\n",
    "T = [[11, 12, 5, 2], [15, 6,10], [10, 8, 12, 5], [12,15,8,6]]\n",
    "for r in T:\n",
    "   for c in r:\n",
    "      print(c,end = \" \")\n",
    "   print()\n",
    "Output\n",
    "When the above code is executed, it produces the following result −\n",
    "\n",
    "11 12 5 2\n",
    "15 6 10\n",
    "10 8 12 5\n",
    "12 15 8 6"
   ]
  },
  {
   "cell_type": "markdown",
   "id": "984834b9",
   "metadata": {},
   "source": [
    "Question:-Q6. Is it possible to use list comprehension with a string? If so, how can you go about doing it?\n",
    "\n",
    "Answer:-List comprehension in Python is an easy and compact syntax for creating a list from a string or another list. It is a very concise way to create a new list by performing an operation on each item in the existing list. List comprehension is considerably faster than processing a list using the for loop.\n",
    "\n",
    "List Comprehension Syntax:\n",
    "[expression for element in iterable if condition]\n",
    "List comprehension works with string lists also. The following creates a new list of strings that contains 'a'. Above, the expression if 'a' in s returns True if an element contains a character 'a'.\n",
    "\n",
    "Example: Create List of Even Numbers with List Comprehension Copy\n",
    "\n",
    "even_nums = [x for x in range(21) if x%2 == 0]\n",
    "print(even_nums)\n",
    "Output\n",
    "[0, 2, 4, 6, 8, 10, 12, 14, 16, 18, 20]"
   ]
  },
  {
   "cell_type": "markdown",
   "id": "3fa07629",
   "metadata": {},
   "source": [
    "Question:-Q7. From the command line, how do you get support with a user-written Python programme? Is this\n",
    "possible from inside IDLE?\n",
    "\n",
    "Answer:-The Python help function is used to display the documentation of modules, functions, classes, keywords, etc. \n",
    "\n",
    "The help function has the following syntax:\n",
    "help([object])\n",
    "Python help() function arguments\n",
    "object: Call help of the given object.\n",
    "If the help function is passed without an argument, then the interactive help utility starts up on the console.\n",
    "\n",
    "help(print)\n",
    "\n",
    "Output:\n",
    "\n",
    "Help on built-in function print in module builtins:\n",
    "\n",
    "print(...)\n",
    "    print(value, ..., sep=' ', end='\\n', file=sys.stdout, flush=False)\n",
    "\n",
    "    Prints the values to a stream, or to sys.stdout by default.\n",
    "    Optional keyword arguments:\n",
    "    file:  a file-like object (stream); defaults to the current sys.stdout.\n",
    "    sep:   string inserted between values, default a space.\n",
    "    end:   string appended after the last value, default a newline.\n",
    "  "
   ]
  },
  {
   "cell_type": "markdown",
   "id": "696419db",
   "metadata": {},
   "source": [
    "Question:-Q8. Functions are said to be “first-class objects” in Python but not in most other languages, such as\n",
    "C++ or Java. What can you do in Python with a function (callable object) that you can&#39;t do in C or\n",
    "C++?\n",
    "    \n",
    "Answer:-A programming language is said to have First-class functions when functions in that language are treated like any other variable. For example, in such a language, a function can be passed as an argument to other functions, can be returned by another function and can be assigned as a value to a variable.\n",
    "In Python, functions behave like any other object, such as an int or a list. That means that you can use functions as arguments to other functions, store functions as dictionary values, or return a function from another function."
   ]
  },
  {
   "cell_type": "markdown",
   "id": "15d04b29",
   "metadata": {},
   "source": [
    "Question:-Q9. How do you distinguish between a wrapper, a wrapped feature, and a decorator?\n",
    "    \n",
    "Answer:-wrappers are the functionality available in Python to wrap a function with another function to extend its behavior. Now, the reason to use wrappers in our code lies in the fact that we can modify a wrapped function without actually changing it.\n",
    "wraps() is a decorator that is applied to the wrapper function of a decorator. It updates the wrapper function to look like wrapped function by copying attributes such as __name__, __doc__ (the docstring), etc. Parameters: wrapped: The function name that is to be decorated by wrapper function\n",
    "when decorating an object, there is an attribute named __wrapped__ that holds the reference to the original one. So now if we use this, we can access it directly without having to resort to the old quirks.\n",
    "\n",
    "A decorator in Python is a function that takes another function as its argument, and returns yet another function . Decorators can be extremely useful as they allow the extension of an existing function, without any modification to the original function source code"
   ]
  },
  {
   "cell_type": "markdown",
   "id": "c92fee00",
   "metadata": {},
   "source": [
    "Question:-Q10. If a function is a generator function, what does it return?\n",
    "\n",
    "Answer:-Python provides a generator to create your own iterator function. A generator is a special type of function which does not return a single value, instead, it returns an iterator object with a sequence of values. In a generator function, a yield statement is used rather than a return statement. The following is a simple generator function.\n",
    "\n",
    "Example: Generator Function\n",
    "def mygenerator():\n",
    "    print('First item')\n",
    "    yield 10\n",
    "\n",
    "    print('Second item')\n",
    "    yield 20\n",
    "\n",
    "    print('Last item')\n",
    "    yield 30"
   ]
  },
  {
   "cell_type": "markdown",
   "id": "92db7f60",
   "metadata": {},
   "source": [
    "Question:-Q11. What is the one improvement that must be made to a function in order for it to become a\n",
    "generator function in the Python language?\n",
    "\n",
    "Answer:-A generator-function is defined like a normal function, but whenever it needs to generate a value, it does so with the yield keyword rather than return. If the body of a def contains yield, the function automatically becomes a generator function.\n",
    "Generator functions return a generator object. Generator objects are used either by calling the next method on the generator object or using the generator object in a “for in” loop"
   ]
  },
  {
   "cell_type": "markdown",
   "id": "2c6126d0",
   "metadata": {},
   "source": [
    "Question:-Q12. Identify at least one benefit of generators.\n",
    "    \n",
    "Answer:-\n",
    "One of the advantages of the generator over the iterator is that elements are generated dynamically. Since the next item is generated only after the first is consumed, it is more memory efficient than the iterator.\n",
    "Memory efficient method of generating sequence types in python.\n",
    "Adds further brevity and readability to written code. Generator expressions are generator functions shortened.\n",
    "Time-efficient when compared to list comparisons."
   ]
  }
 ],
 "metadata": {
  "kernelspec": {
   "display_name": "Python 3 (ipykernel)",
   "language": "python",
   "name": "python3"
  },
  "language_info": {
   "codemirror_mode": {
    "name": "ipython",
    "version": 3
   },
   "file_extension": ".py",
   "mimetype": "text/x-python",
   "name": "python",
   "nbconvert_exporter": "python",
   "pygments_lexer": "ipython3",
   "version": "3.9.7"
  }
 },
 "nbformat": 4,
 "nbformat_minor": 5
}
