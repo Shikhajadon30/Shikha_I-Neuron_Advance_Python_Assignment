{
 "cells": [
  {
   "cell_type": "markdown",
   "id": "ea49c499",
   "metadata": {},
   "source": [
    "Question:-What are the new features added in Python 3.8 version?\n",
    "    \n",
    "Answer:-Python 3.8 contains many small improvements over the earlier versions. This article outlines the most significant additions and changes in python 3.8\n",
    " \n",
    "\n",
    "Positional-only parameters(/)\n",
    "There is a new function parameter syntax “/” which indicates that some function parameters must be specified positionally and can’t be used as keyword arguments. The addition of “/” improves the language’s consistency and allows a robust API design.\n",
    "\n",
    "Assignment Expressions(:=)\n",
    "This operator is used to assign and return a value in the same expression. This removes the need for initializing the variable upfront. The major benefit of this is it saves some lines of code. It is also known as “The Walrus Operator” due to its similarity to the eyes and tusks of a walrus.\n",
    "\n",
    "f-strings now support “=”\n",
    "This string formatting mechanism is known as Literal String Interpolation or more commonly as F-strings (because of the leading f character preceding the string literal). The idea behind f-strings is to make string interpolation simpler. Python 3.8 allows the use of the above-discussed assignment operator and equal sign (=) inside the f-strings.\n",
    "For example, say we have two variables “a” and “b”, and we want to print “a + b” along with the result. Here we can use f-strings=.\n",
    "\n",
    "No parentheses for return and yield statements\n",
    "‘yield’ and ‘return’ statements do not require parentheses to return multiple values.\n",
    "\n",
    "pow() function\n",
    "In the three-argument form of pow(), when the exponent is -1, it calculates the modular multiplicative inverse of the given value.\n",
    "\n",
    "Syntax Warning\n",
    "If you miss a comma in your code such as a = [(1, 2) (3, 4)], instead of throwing TypeError, it displays an informative Syntax warning like this:\n",
    "\n",
    "SyntaxWarning: 'tuple' object is not callable; perhaps you missed a comma?\n",
    "\n",
    "Dictionary comprehension\n",
    "Dict comprehensions have been modified so that the key is computed first and the value second:\n",
    "\n",
    ">>> data = {input('Name: '), input('Age: ')}\n",
    "Name: Charles\n",
    "Age: 40\n",
    "‘csv’ module\n",
    "The ‘csv.DictReader’ now returns instances of dictionary instead of a ‘collections.OrderedDict’.\n",
    "\n",
    "importlib_metadata\n",
    "importlib_metadata is a new library added in the Python’s standard utility modules, that provides an API for accessing an installed package’s metadata, such as its entry points or its top-level name.\n",
    "\n",
    "Performance \n",
    "In Python 3.8, the multiprocessing module offers a SharedMemory class that allows regions of memory to be created and shared between different Python processes. Shared memory provides a much faster path for passing data between process, which eventually allows Python to use multiple processors and multiple cores more efficiently.\n",
    "Many built-in methods and functions have been speed up by 20% to 50%.\n",
    "Newly created lists are now on average 12% smaller than before\n",
    "Writes to class variables are much faster in Python 3.8."
   ]
  },
  {
   "cell_type": "markdown",
   "id": "b537f334",
   "metadata": {},
   "source": [
    "Question:-2. What is monkey patching in Python?\n",
    "    \n",
    "Answer:-In Python, the term monkey patch refers to dynamic (or run-time) modifications of a class or module. In Python, we can actually change the behavior of code at run-time.\n",
    "\n",
    "class A:\n",
    "     def func(self):\n",
    "          print (\"func() is being called\")\n",
    "We use above module (monk) in below code and change behavior of func() at run-time by assigning different value.\n",
    "\n",
    "\n",
    "import monk\n",
    "def monkey_f(self):\n",
    "     print (\"monkey_f() is being called\")\n",
    "    \n",
    "monk.A.func = monkey_f\n",
    "obj = monk.A()\n",
    "  \n",
    "Examples:\n",
    "\n",
    "Output :monkey_f() is being called\n",
    "\n"
   ]
  },
  {
   "cell_type": "markdown",
   "id": "a1407ae9",
   "metadata": {},
   "source": [
    "Question:-3. What is the difference between a shallow copy and deep copy?\n",
    "\n",
    "Answer:-In Shallow copy, a copy of the original object is stored and only the reference address is finally copied. In Deep copy, the copy of the original object and the repetitive copies both are stored.\n",
    "\n",
    "What is Shallow copy?\n",
    "A bitwise copy of an object, where a new object is created and it has the same copy of the values in the original object, is called a Shallow copy. If any of the object fields refer to the other object then in such cases only the reference address is copied.\n",
    "\n",
    "What is Deep copy?\n",
    "When the process of copying occurs repetitively and a copy of the object is always copied in another object, then it is called deep copy. In this process, initially, a new collection of the object is constructed, and then the copies of the child object frequently populate those found in the original.\n",
    "\n",
    "Difference between Shallow copy and Deep copy\n",
    "\n",
    "1.In Shallow copy, a copy of the original object is stored and only the reference address is finally copied.\n",
    "\n",
    "In Deep copy, the copy of the original object and the repetitive copies both are stored.\n",
    "\n",
    "2.Shallow copy is faster than Deep copy.\n",
    "\n",
    "Deep copy is slower than Shallow copy.\n",
    "\n",
    "3.The changes made in the copied object also reflect the original object.\n",
    "\n",
    "There is no reflection on the original object when the changes are made in the copied object.\n",
    "\n",
    "4.It stores references of the object in the main memory.\n",
    "\n",
    "It stores copies of the object values."
   ]
  },
  {
   "cell_type": "markdown",
   "id": "2014bf0d",
   "metadata": {},
   "source": [
    "Question:-4. What is the maximum possible length of an identifier?\n",
    "  \n",
    "Answer:-In Python, the highest possible length of an identifier is 79 characters. Python is a high level programming language. It's also a complex form and a collector of waste. Python, particularly when combined with identifiers, is case-sensitive."
   ]
  },
  {
   "cell_type": "markdown",
   "id": "a5170134",
   "metadata": {},
   "source": [
    "Question:-5. What is generator comprehension?\n",
    "\n",
    "Answer:-A generator comprehension is a single-line specification for defining a generator in Python. It is absolutely essential to learn this syntax in order to write simple and readable code.\n",
    "\n",
    "Generator comprehensions are not the only method for defining generators in Python. One can define a generator similar to the way one can define a function (which we will encounter soon). See this section of the official Python tutorial if you are interested in diving deeper into generators.\n",
    "Recall that a list readily stores all of its members; you can access any of its contents via indexing. A generator, on the other hand, does not store any items. Instead, it stores the instructions for generating each of its members, and stores its iteration state; this means that the generator will know if it has generated its second member, and will thus generate its third member the next time it is iterated on.\n",
    "\n",
    "The whole point of this is that you can use a generator to produce a long sequence of items, without having to store them all in memory."
   ]
  }
 ],
 "metadata": {
  "kernelspec": {
   "display_name": "Python 3 (ipykernel)",
   "language": "python",
   "name": "python3"
  },
  "language_info": {
   "codemirror_mode": {
    "name": "ipython",
    "version": 3
   },
   "file_extension": ".py",
   "mimetype": "text/x-python",
   "name": "python",
   "nbconvert_exporter": "python",
   "pygments_lexer": "ipython3",
   "version": "3.9.7"
  }
 },
 "nbformat": 4,
 "nbformat_minor": 5
}
