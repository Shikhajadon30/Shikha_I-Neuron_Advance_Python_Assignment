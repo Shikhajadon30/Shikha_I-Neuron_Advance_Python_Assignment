{
 "cells": [
  {
   "cell_type": "markdown",
   "id": "6cbec573",
   "metadata": {},
   "source": [
    "Question:-Q1. Describe the differences between text and binary files in a single paragraph.\n",
    "\n",
    "Answer:-The major difference between these two is that a text file contains textual information in the form of alphabets, digits and special characters or symbols. On the other hand, a binary file contains bytes or a compiled version of a text file.\n",
    "\n",
    "There are mainly two types of data files — text file and binary file. A text file consists of human readable characters, which can be opened by any text editor. On the other hand, binary files are made up of non-human readable characters and symbols, which require specific programs to access its contents."
   ]
  },
  {
   "cell_type": "markdown",
   "id": "a05a4390",
   "metadata": {},
   "source": [
    "Question:-Q2. What are some scenarios where using text files will be the better option? When would you like to\n",
    "use binary files instead of text files?\n",
    "\n",
    "Answer:-A text file is used to store standard and structured textual data or information that is human readable. It is defined in several different formats, including the most popular ASCII for cross-platform usage, and ANSI for Windows-based operating platforms\n",
    "Binary files can be used to store any data; for example, a JPEG image is a binary file designed to be read by a computer system. The data inside a binary file is stored as raw bytes, which is not human readable."
   ]
  },
  {
   "cell_type": "markdown",
   "id": "a06f1b25",
   "metadata": {},
   "source": [
    "Q3. What are some of the issues with using binary operations to read and write a Python integer\n",
    "directly to disc?\n",
    "\n",
    "Answer:-Python’s bitwise NOT operator ~x inverts each bit from the binary representation of integer x so that 0 becomes 1 and 1 becomes 0. This is semantically the same as calculating ~x == -x-1. For example, the bitwise NOT expression ~0 becomes -1, ~9 becomes -10, and ~32 becomes -33."
   ]
  },
  {
   "cell_type": "markdown",
   "id": "f20e85ad",
   "metadata": {},
   "source": [
    "Question:-Q4. Describe a benefit of using the with keyword instead of explicitly opening a file.\n",
    "    \n",
    "Answer:-The with statement clarifies code that previously would use try...finally blocks to ensure that clean-up code is executed. In this section, I’ll discuss the statement as it will commonly be used. \n",
    "\n",
    "The with statement is a control-flow structure whose basic structure is:\n",
    "\n",
    "with expression [as variable]:\n",
    "    with-block\n",
    "The expression is evaluated, and it should result in an object that supports the context management protocol (that is, has __enter__() and __exit__() methods).\n",
    "\n"
   ]
  },
  {
   "cell_type": "markdown",
   "id": "6c1248b6",
   "metadata": {},
   "source": [
    "Question:-Q5. Does Python have the trailing newline while reading a line of text? Does Python append a\n",
    "newline when you write a line of text?\n",
    "\n",
    "Answer:-A trailing new line is a ’\\n’ character at the end of a line like that in Python strings.\n",
    "\n",
    "Python uses a backslash escape, \\n , which Python converts to a newline character in string literals. It just concatenates your string, name , and that newline character into a bigger string, which gets written to the file. "
   ]
  },
  {
   "cell_type": "markdown",
   "id": "c27a52a1",
   "metadata": {},
   "source": [
    "Question:-Q6. What file operations enable for random-access operation?\n",
    "    \n",
    "Answer:-A random access file behaves like a large array of bytes stored in the file system. There is a kind of cursor, or index into the implied array, called the file pointer ; input operations read bytes starting at the file pointer and advance the file pointer past the bytes read."
   ]
  },
  {
   "cell_type": "markdown",
   "id": "fe63c3a4",
   "metadata": {},
   "source": [
    "Question:-Q7. When do you think you&#39;ll use the struct package the most?\n",
    "\n",
    "Answer:-The struct module in Python is used to convert native Python data types such as strings and numbers into a string of bytes and vice versa. What this means is that users can parse binary files of data stored in C structs in Python.\n",
    "\n",
    "It is used mostly for handling binary data stored in files or from network connections, among other sources.\n",
    "\n",
    "The module is only available in Python 3.x and needs to be imported first by writing\n",
    "\n",
    "import struct\n",
    "\n",
    "This process needs to be done at the start of the program."
   ]
  },
  {
   "cell_type": "markdown",
   "id": "fc874df9",
   "metadata": {},
   "source": [
    "Question:-Q8. When is pickling the best option? \n",
    "\n",
    "Answer:- Pickle in Python is primarily used in serializing and deserializing a Python object structure. In other words, it's the process of converting a Python object into a byte stream to store it in a file/database, maintain program state across sessions, or transport data over the network.he pickled byte stream can be used to re-create the original object hierarchy by unpickling the stream.\n",
    "\n",
    "According to the pickle module documentation, the following types can be pickled:\n",
    "\n",
    "None, true, and false\n",
    "Integers, long integers, floating point numbers, complex numbers\n",
    "Normal and Unicode strings\n",
    "Tuples, lists, sets, and dictionaries containing only picklable objects\n",
    "Functions defined at the top level of a module\n",
    "Built-in functions defined at the top level of a module\n",
    "Classes that are defined at the top level of a module\n",
    "Pickle allows different objects to declare how they should be pickled using the __reduce__ method. Whenever an object is pickled, the __reduce__ method defined by it gets called. This method returns either a string, which may represent the name of a Python global, or a tuple describing how to reconstruct this object when unpickling.\n",
    "    \n",
    "    "
   ]
  },
  {
   "cell_type": "markdown",
   "id": "7175cb8a",
   "metadata": {},
   "source": [
    "Question:-Q9. When will it be best to use the shelve package?\n",
    "    \n",
    "Answer:-The shelve module in Python’s standard library is a simple yet effective tool for persistent data storage when using a relational database solution is not required. The shelf object defined in this module is dictionary-like object which is persistently stored in a disk file. This creates afile similar to dbm database on UNIX like systems. Only string data type can be used as key in this special dictionary object, whereas any picklable object can serve as value.\n",
    "The shelve module defines three classes as follows −\n",
    "1\tShelf\n",
    "This is the base class for shelf implementations. It is initialized with dict-like object.\n",
    "2\tBsdDbShelf \n",
    "This is a subclass of Shelf class. The dict object passed to its constructor must support first(), next(), previous(), last() and set_location() methods.\n",
    "3\tDbfilenameShelf \n",
    "This is also a subclass of Shelf but accepts a filename as parameter to its constructor rather than dict object."
   ]
  },
  {
   "cell_type": "markdown",
   "id": "7922e1fd",
   "metadata": {},
   "source": [
    "Question:-Q10. What is a special restriction when using the shelve package, as opposed to using other data\n",
    "dictionaries?\n",
    "\n",
    "Answer:-The shelf dictionary has certain restrictions. Only string data type can be used as key in this special dictionary object, whereas any picklable Python object can be used as value."
   ]
  }
 ],
 "metadata": {
  "kernelspec": {
   "display_name": "Python 3 (ipykernel)",
   "language": "python",
   "name": "python3"
  },
  "language_info": {
   "codemirror_mode": {
    "name": "ipython",
    "version": 3
   },
   "file_extension": ".py",
   "mimetype": "text/x-python",
   "name": "python",
   "nbconvert_exporter": "python",
   "pygments_lexer": "ipython3",
   "version": "3.9.7"
  }
 },
 "nbformat": 4,
 "nbformat_minor": 5
}
