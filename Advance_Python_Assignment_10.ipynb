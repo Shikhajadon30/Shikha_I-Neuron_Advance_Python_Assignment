{
 "cells": [
  {
   "cell_type": "markdown",
   "id": "62f44f67",
   "metadata": {},
   "source": [
    "Question:- Q1. What is the difference between __getattr__ and __getattribute__?\n",
    "\n",
    "Answer:-\n",
    "__getattr__ gets called if there is no attribute in the instance.\n",
    "\n",
    "It’s invoked “last”, if Python can’t find that attribute.(lowest priority)\n",
    "\n",
    "__getattribute__ gets called all the times, whether there is the attribute or not.\n",
    "\n",
    "It’s invoked “first”(highest priority) — it actually “intercepts” every lookup.\n",
    "\n",
    "So, even if there is the attribute in the instance, Python calls __getattribute__ first, with the attribute as an argument."
   ]
  },
  {
   "cell_type": "markdown",
   "id": "d572b4b9",
   "metadata": {},
   "source": [
    "Question:-Q2. What is the difference between properties and descriptors?\n",
    "\n",
    "Answer:-descriptors are a low-level mechanism that lets you hook into an object's attributes being accessed. Properties are a high-level application of this; that is, properties are implemented using descriptors. Or, better yet, properties are descriptors that are already provided for you in the standard library.\n",
    "\n",
    "If you need a simple way to return a computed value from an attribute read, or to call a function on an attribute write, use the @property decorator. The descriptor API is more flexible, but less convenient, and arguably \"overkill\" and non-idiomatic in this situation. It's useful for more advanced use cases, like implementing bound methods, or static and class methods; when you need to know, for example, if the attribute was accessed through the type object, or an instance of the type."
   ]
  },
  {
   "cell_type": "markdown",
   "id": "955de19b",
   "metadata": {},
   "source": [
    "Question:-Q3. What are the key differences in functionality between __getattr__ and __getattribute__, as well as\n",
    "properties and descriptors?\n",
    "\n",
    "Answer:-A key difference between __getattr__ and __getattribute__ is that __getattr__ is only invoked if the attribute wasn't found the usual ways. It's good for implementing a fallback for missing attributes, and is probably the one of two you want.\n",
    "\n",
    "By Properties, We can bind getter, setter (and deleter) functions with an attribute name, using the built-in property function. When we do this, each reference to an attribute looks like simple, direct access, but invokes the appropriate function of the object. For example, anObject.price= someValue; anObject.value.\n",
    "\n",
    "By Descriptors, We can bind getter, setter (and deleter) functions into a separate class. We then assign an object of this class to the attribute name. When we do this, each reference to an attribute looks like simple, direct access, but invokes an appropriate function of the Descriptor object. For example, anObject.price= someValue; anObject.value.\n",
    "\n"
   ]
  }
 ],
 "metadata": {
  "kernelspec": {
   "display_name": "Python 3 (ipykernel)",
   "language": "python",
   "name": "python3"
  },
  "language_info": {
   "codemirror_mode": {
    "name": "ipython",
    "version": 3
   },
   "file_extension": ".py",
   "mimetype": "text/x-python",
   "name": "python",
   "nbconvert_exporter": "python",
   "pygments_lexer": "ipython3",
   "version": "3.9.7"
  }
 },
 "nbformat": 4,
 "nbformat_minor": 5
}
