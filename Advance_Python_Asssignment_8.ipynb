{
 "cells": [
  {
   "cell_type": "markdown",
   "id": "0fd5bb4c",
   "metadata": {},
   "source": [
    "Question:-Q1. What are the two latest user-defined exception constraints in Python 3.X?\n",
    "    \n",
    "Answer:- User defined exceptions in python are created by programmers to enforce constraints on the values which the variables in the program can take. Python has many built in exceptions which are raised when there is some error in the program. A program automatically terminates after showing which inbuilt exception has occurred while executing the program when it reaches into an undesired state. We can stop the program from entering into an undesired state by enforcing constraints using user defined exceptions.\n",
    "User defined exceptions can be implemented by raising an exception explicitly, by using assert statement or by defining custom classes for user defined exceptions. "
   ]
  },
  {
   "cell_type": "markdown",
   "id": "17ed9e01",
   "metadata": {},
   "source": [
    "Question:-Q2. How are class-based exceptions that have been raised matched to handlers?\n",
    "    \n",
    "Answer:-To create a user defined exception, we create a class with desired exception name which should inherit Exception class. After that, we can raise the exception in our code anywhere according to our need to implement constraints.\n",
    "\n",
    "To generate a user defined exception, we use the “raise” keyword when a certain condition is met. The exception is then handled by the except block of the code. We then use pass statement. pass statement is used to show that we will not implement anything in our custom exception class. It is used as a placeholder and does nothing, still we have to use it because if we leave the body of our custom class empty, python interpreter will show that there is error in our code.\n",
    "\n",
    "Example:\n",
    "\n",
    "class NegativeAgeError(Exception):\n",
    "    pass\n",
    "try:\n",
    "    age= -10\n",
    "    print(\"Age is:\")\n",
    "    print(age)\n",
    "    if age<0:\n",
    "        raise NegativeAgeError\n",
    "    yearOfBirth= 2021-age\n",
    "    print(\"Year of Birth is:\")\n",
    "    print(yearOfBirth)\n",
    "except NegativeAgeError:\n",
    "    print(\"Input Correct age.\")"
   ]
  },
  {
   "cell_type": "markdown",
   "id": "181a8c99",
   "metadata": {},
   "source": [
    "Question:- Q3. Describe two methods for attaching context information to exception artefacts.\n",
    "    \n",
    "Answer:- Exception Chaining and Embedded Tracebacks"
   ]
  },
  {
   "cell_type": "markdown",
   "id": "0736656d",
   "metadata": {},
   "source": [
    "Question:- Q4. Describe two methods for specifying the text of an exception object's error message.\n",
    "\n",
    "Answer:-Python comes with an extensive support of exceptions and exception handling. An exception event interrupts and, if uncaught, immediately terminates a running program. The most popular examples are the IndexError, ValueError, and TypeError.\n",
    "\n",
    "If you try to access the list element with index 100 but your lists consist only of three elements, Python will throw an IndexError telling you that the list index is out of range.\n",
    "\n",
    "The ValueError arises if you try to use wrong values in some functions. Here’s an example where the ValueError is raised because you tried to calculate the square root of a negative number."
   ]
  },
  {
   "cell_type": "markdown",
   "id": "f2a26389",
   "metadata": {},
   "source": [
    "Question:-Q5. Why do you no longer use string-based exceptions?\n",
    "    \n",
    "Answer:-  try-and-except block to get the value of an exception as a string. Within a try-and-except block, write the except-statement as except Exception as error to capture an Exception as error . Use str(obj) with this error as obj to convert it to a string."
   ]
  }
 ],
 "metadata": {
  "kernelspec": {
   "display_name": "Python 3 (ipykernel)",
   "language": "python",
   "name": "python3"
  },
  "language_info": {
   "codemirror_mode": {
    "name": "ipython",
    "version": 3
   },
   "file_extension": ".py",
   "mimetype": "text/x-python",
   "name": "python",
   "nbconvert_exporter": "python",
   "pygments_lexer": "ipython3",
   "version": "3.9.7"
  }
 },
 "nbformat": 4,
 "nbformat_minor": 5
}
