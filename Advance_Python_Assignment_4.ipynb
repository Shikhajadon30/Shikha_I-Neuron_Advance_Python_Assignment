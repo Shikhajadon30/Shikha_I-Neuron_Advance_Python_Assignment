{
 "cells": [
  {
   "cell_type": "markdown",
   "id": "d3482cf4",
   "metadata": {},
   "source": [
    "Question:- Q1. Which two operator overloading methods can you use in your classes to support iteration?\n",
    "\n",
    "Answer:-Method overloading is a way where we add new functionality to an already defined function, and in that way, we overload the function. There are many other languages that support method overloading, and Python also supports method overloading. For example, the plus operator is an example of operator overloading where it can add integers as well as strings. Then the minus operator who can subtract integers, as well sets, lists also so, that’s how Python has overloading features in its operator and functions.\n",
    "\n",
    "The python overloading can be achieved in two ways or instances; they are listed below,\n",
    "\n",
    "1.Overloading of functions or methods ( Function  Overloading ).\n",
    "  1.a) Overloading User-Defined Functions\n",
    "    1.b) Overloading Default or Pre-Defined Functions\n",
    "2.Overloading of operators ( Operator Overloading )."
   ]
  },
  {
   "cell_type": "raw",
   "id": "6791041a",
   "metadata": {},
   "source": [
    "Question:- Q2. In what contexts do the two operator overloading methods manage printing?\n",
    "\n",
    "Answer:-Python provides some special function or magic function that is automatically invoked when it is associated with that particular operator. For example, when we use + operator, the magic method __add__ is automatically invoked in which the operation for + operator is defined.\n",
    "Python magic methods or special functions for operator overloading\n",
    "Binary Operators:\n",
    "Operator\tMagic Method\n",
    "+\t__add__(self, other)\n",
    "–\t__sub__(self, other)\n",
    "*\t__mul__(self, other)\n",
    "/\t__truediv__(self, other)\n",
    "//\t__floordiv__(self, other)\n",
    "%\t__mod__(self, other)\n",
    "**\t__pow__(self, other)\n",
    ">>\t__rshift__(self, other)\n",
    "<<\t__lshift__(self, other)\n",
    "&\t__and__(self, other)\n",
    "|\t__or__(self, other)\n",
    "^\t__xor__(self, other)\n",
    "\n",
    "Comparison Operators :\n",
    "Operator\tMagic Method\n",
    "<\t__lt__(self, other)\n",
    ">\t__gt__(self, other)\n",
    "<=\t__le__(self, other)\n",
    ">=\t__ge__(self, other)\n",
    "==\t__eq__(self, other)\n",
    "!=\t__ne__(self, other)\n",
    "\n",
    "Assignment Operators :\n",
    "Operator\tMagic Method\n",
    "-=\t__isub__(self, other)\n",
    "+=\t__iadd__(self, other)\n",
    "*=\t__imul__(self, other)\n",
    "/=\t__idiv__(self, other)\n",
    "//=\t__ifloordiv__(self, other)\n",
    "%=\t__imod__(self, other)\n",
    "**=\t__ipow__(self, other)\n",
    ">>=\t__irshift__(self, other)\n",
    "<<=\t__ilshift__(self, other)\n",
    "&=\t__iand__(self, other)\n",
    "|=\t__ior__(self, other)\n",
    "^=\t__ixor__(self, other)\n",
    "Unary Operators :\n",
    "Operator\tMagic Method\n",
    "–\t__neg__(self)\n",
    "+\t__pos__(self)\n",
    "~\t__invert__(self)\n",
    "Note: It is not possible to change the number of operands of an operator. For ex. you cannot overload a unary operator as a binary operator. The following code will throw a syntax error.\n"
   ]
  },
  {
   "cell_type": "raw",
   "id": "2a3e18cc",
   "metadata": {},
   "source": [
    "Question:- Q3. In a class, how do you intercept slice operations?\n",
    "\n",
    "Answer:-\"setslice\" and \"delslice\" are deprecated, if you want to do the interception you need to work with python slice objects passed to \"setitem\" and \"delitem\". If you want to intecept both slices and ordinary accesses this code works perfectly in python.\n",
    "class InterceptedList(list):\n",
    "\n",
    "def addSave(func):\n",
    "    def newfunc(self, *args):\n",
    "        func(self, *args)\n",
    "        print 'saving'\n",
    "    return newfunc\n",
    "\n",
    "def __setitem__(self, key, value):\n",
    "    print 'saving'\n",
    "    list.__setitem__(self, key, value)\n",
    "\n",
    "def __delitem__(self, key):\n",
    "    print 'saving'\n",
    "    list.__delitem__(self, key)"
   ]
  },
  {
   "cell_type": "raw",
   "id": "d584ffcb",
   "metadata": {},
   "source": [
    "Question:- Q4. In a class, how do you capture in-place addition?\n",
    "\n",
    "Answer:-Python provides the operator x += y to add two objects in-place by calculating the sum x + y and assigning the result to the first operands variable name x. You can set up the in-place addition behavior for your own class by overriding the magic “dunder” method __iadd__(self, other) in your class definition."
   ]
  },
  {
   "cell_type": "raw",
   "id": "acbbfaf1",
   "metadata": {},
   "source": [
    "Question:-Q5. When is it appropriate to use operator overloading?\n",
    "    \n",
    "Suppose the user has two objects which are the physical representation of a user-defined data type class. The user has to add two objects using the \"+\" operator, and it gives an error. This is because the compiler does not know how to add two objects. So, the user has to define the function for using the operator, and that process is known as \"operator overloading\". The user can overload all the existing operators by they cannot create any new operator. Python provides some special functions, or we can say magic functions for performing operator overloading, which is automatically invoked when it is associated with that operator. Such as, when the user uses the \"+\" operator, the magic function __add__ will automatically invoke in the command where the \"+\" operator will be defined."
   ]
  }
 ],
 "metadata": {
  "kernelspec": {
   "display_name": "Python 3 (ipykernel)",
   "language": "python",
   "name": "python3"
  },
  "language_info": {
   "codemirror_mode": {
    "name": "ipython",
    "version": 3
   },
   "file_extension": ".py",
   "mimetype": "text/x-python",
   "name": "python",
   "nbconvert_exporter": "python",
   "pygments_lexer": "ipython3",
   "version": "3.9.7"
  }
 },
 "nbformat": 4,
 "nbformat_minor": 5
}
