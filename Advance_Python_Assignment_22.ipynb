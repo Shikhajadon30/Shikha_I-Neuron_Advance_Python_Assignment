{
 "cells": [
  {
   "cell_type": "markdown",
   "id": "a99081b4",
   "metadata": {},
   "source": [
    "Question:-Q1. What are the benefits of the built-in array package, if any?\n",
    "\n",
    "Answer:-Built-in array module defines an object type which can efficiently represent an array of basic values: characters, integers, floating point numbers. Arrays are sequence types and behave very much like lists, except that the type of objects stored in them is constrained. \n",
    "This means objects stored in the array are of a homogeneous(same) type. Type of objects to be stored in an array (built-in) is determined by typecode. Type codes are single characters.\n",
    "In array module “array(typecode [, initializer])” returns an array. Where initializer is optional, and if provided it must be a list, string or iterable.\n",
    "While using built-in array module, it is the call of programmer whether to provide initializer(initializer is optional) during creation of array. "
   ]
  },
  {
   "cell_type": "markdown",
   "id": "ba071240",
   "metadata": {},
   "source": [
    "Question:-Q2. What are some of the array package's limitations?\n",
    "\n",
    "Answer:-The limitations of an array are explained below −\n",
    "\n",
    "An array which is formed will be homogeneous. That is, in an integer array only integer values can be stored, while in a float array only floating value and character array can have only characters. Thus, no array can have values of two data types.\n",
    "\n",
    "While declaring an array, passing size of an array is compulsory, and the size must be a constant. Thus, there is either shortage or wastage of memory.\n",
    "\n",
    "Shifting is required for insertion or deletion of elements in an array.\n",
    "\n",
    "An array doesn’t check boundaries: We cannot check, if the values entered in an array are exceeding the size of that array or not.\n",
    "\n",
    "Data that is entered with the subscript, exceeds the array size and will be placed outside the array. Generally, on the top of the data or the program itself.\n",
    "\n",
    "This will lead to unpredictable results, to say the least. Also, there will be no error message to warn the programmer of going beyond the array size. In some cases, the program may hang."
   ]
  },
  {
   "cell_type": "markdown",
   "id": "5e5f6af5",
   "metadata": {},
   "source": [
    "Question:-Q3. Describe the main differences between the array and numpy packages.\n",
    "\n",
    "Answer:-Numpy (Links to an external site.) is the core library for scientific computing in Python. It provides a high-performance multidimensional array object, and tools for working with these arrays. A numpy array is a grid of values, all of the same type, and is indexed by a tuple of nonnegative integers. The number of dimensions is the rank of the array; the shape of an array is a tuple of integers giving the size of the array along each dimension.\n",
    "\n",
    "The Python core library provided Lists. A list is the Python equivalent of an array, but is resizeable and can contain elements of different types.\n",
    "\n",
    "A common beginner question is what is the real difference here. The answer is performance. Numpy data structures perform better in:\n",
    "Size - Numpy data structures take up less space\n",
    "Performance - they have a need for speed and are faster than lists\n",
    "Functionality - SciPy and NumPy have optimized functions such as linear algebra operations built in.\n",
    "\n",
    "Memory- The main benefits of using NumPy arrays should be smaller memory consumption and better runtime behavior. \n",
    "Speed- This shows some performance numbers of operations between Python and Numpy. Notice how the 2nd set of numbers (NumPy) are always smaller - meaning they have much better performance than their Python List core library conterparts.\n"
   ]
  },
  {
   "cell_type": "markdown",
   "id": "1b2c94b2",
   "metadata": {},
   "source": [
    "Question:-Q4. Explain the distinctions between the empty, ones, and zeros functions.\n",
    "\n",
    "Answer:-An empty function is a function that does not contain any statement within its body. If you try to write a function definition without any statement in python – it will return an error (\"IndentationError: expected an indented block\").\n",
    "\n",
    "ones() function returns a new array of given shape and data type, where the element's value is set to 1. This function is very similar to numpy zeros() function.\n",
    "\n",
    "zeros() function is one of the most significant functions which is used in machine learning programs widely. This function is used to generate an array containing zeros. The numpy. zeros() function provide a new array of given shape and type, which is filled with zeros.\n",
    "empty, unlike zeros, does not set the array values to zero, and may therefore be marginally faster. On the other hand, it requires the user to manually set all the values in the array, and should be used with caution. Return a new array setting values to zero"
   ]
  },
  {
   "cell_type": "markdown",
   "id": "fc5897a1",
   "metadata": {},
   "source": [
    "Question:-Q5. In the fromfunction function, which is used to construct new arrays, what is the role of the callable\n",
    "argument?\n",
    "\n",
    "Answer:-numpy.fromfunction() function construct an array by executing a function over each coordinate and the resulting array, therefore, has a value fn(x, y, z) at coordinate (x, y, z).\n",
    "\n",
    "Syntax : numpy.fromfunction(function, shape,  dtype)\n",
    "\n",
    "Parameters :\n",
    "\n",
    "function : [callable] The function is called with N parameters, where N is the rank of shape. Each parameter represents the coordinates of the array varying along a specific axis.\n",
    "\n",
    "shape : [(N, ) tuple of ints] Shape of the output array, which also determines the shape of the coordinate arrays passed to function.\n",
    "dtype : [data-type, optional] Data-type of the coordinate arrays passed to function.\n",
    "\n",
    "Return : The output array."
   ]
  },
  {
   "cell_type": "markdown",
   "id": "3b899b5d",
   "metadata": {},
   "source": [
    "Question:-Q6. What happens when a numpy array is combined with a single-value operand (a scalar, such as\n",
    "an int or a floating-point value) through addition, as in the expression A + n?\n",
    "\n",
    "Answer:-Numpy module in python, provides a function to numpy.append() to add an element in a numpy array. We can pass the numpy array and a single value as arguments to the append() function. It doesn’t modifies the existing array, but returns a copy of the passed array with given value added to it.\n",
    "\n",
    "Numpy module in python, provides a function numpy.concatenate() to join two or more arrays. We can use that to add single element in numpy array. But for that we need to encapsulate the single value in a sequence data structure like list and pass a tuple of array & list to the concatenate() function.\n",
    "\n",
    "Using numpy.insert() function in the NumPy module, we can also insert an element at the end of a numpy array."
   ]
  },
  {
   "cell_type": "markdown",
   "id": "4cd56fcd",
   "metadata": {},
   "source": [
    "Question:-Q7. Can array-to-scalar operations use combined operation-assign operators (such as += or *=)?\n",
    "What is the outcome?\n",
    "\n",
    "Answer:-In Python, the operator + (addition) redirects to either the __add__ method of the left operand or the __radd__ method of the right operand. We can ignore the latter case, since it is pretty rarely used (when addition does not commute).\n",
    "\n",
    "The += operator redirects to the __iadd__ method, if one is defined. If __iadd__ is not defined on the left operand, a += b becomes equivalent to a = a + b.\n",
    "\n",
    "The thing to remember with a += b is that it is not just a.__iadd__(b) (or type(a).__iadd__(a, b)), it is a = type(a).__iadd__(a, b). On the one hand, this forced assignment allows immutable types like int to define a meaningful += operation. On the other hand, the following fails with a TypeError even though list addition happens in place:\n",
    "\n",
    "tup = (['a'], ['b'])\n",
    "tup[0] += ['c']\n",
    "Numpy arrays are mutable objects that have clearly defined in place operations. If a and b are arrays of the same shape, a += b adds the two arrays together, using a as an output buffer. The function form of the operation is a = np.ndarray.__iadd__(a, b), which modifies a and returns a.\n",
    "\n",
    "Similarly, a = a + b is equivalent to a = np.ndarray.__add__(a, b). Unlike __iadd__, however, __add__ creates and returns a completely new array to hold the result, which is then assigned to a.\n",
    "\n",
    "This has some additional implications for things like output type. If a has dtype=int32 and b has dtype=float64, the in place operation will not change the type of a. Instead b's values will be truncated. The result of a + b will have the wider type though, which would be float64 in this example.\n",
    "\n",
    "All the basic Python operators have equivalent function implementations in numpy. a = a + b is equivalent to a = np.add(a, b). a += b is equivalent to a = np.add(a, b, out=a)."
   ]
  },
  {
   "cell_type": "markdown",
   "id": "c6c18e5f",
   "metadata": {},
   "source": [
    "Question:-Q8. Does a numpy array contain fixed-length strings? What happens if you allocate a longer string to\n",
    "one of these arrays?\n",
    "\n",
    "Answer:-NumPy arrays have a fixed size at creation, unlike Python lists (which can grow dynamically). Changing the size of an ndarray will create a new array and delete the original. The elements in a NumPy array are all required to be of the same data type, and thus will be the same size in memory.\n",
    "Numpy Array append()\n",
    "The Numpy appends() function adds an element in a NumPy array at the end of the array. This method does not modify the original array else returns a copy of the array after adding the passed element or array.\n",
    "Extend NumPy array row-wise in Python\n",
    "We have a two-dimensional numpy array and extend an array using numpy append() function row-wise bypassing axis =0.\n",
    "\n",
    "To use numpy function first need to import NumPy libraray “import numpy as np”\n",
    "The resarr is array after extended\n",
    "Printing the result array using print() method\n",
    "Extend NumPy array column-wise in Python\n",
    "In this Python program, We are extending a numpy array using append() function column-wise bypassing axis =1.\n",
    "Extend Numpy array with zeros\n",
    "we are extending a 1D and 2D Numpy array with zeros by using the np.pad() function. This is how we extend the NumPy array with zeros.\n",
    "Extend NumPy array with same value\n",
    "To extend the NumPy array with the same value. The numpy.full() function is used to create an array of a given shape that contains the same values. Let us understand with examples how to extend the NumPy array with the same values."
   ]
  },
  {
   "cell_type": "markdown",
   "id": "d2cfa974",
   "metadata": {},
   "source": [
    "Question:-Q9. What happens when you combine two numpy arrays using an operation like addition (+) or\n",
    "multiplication (*)? What are the conditions for combining two numpy arrays?\n",
    "\n",
    "Answer:-It returns a numpy array of the same shape with values resulting from multiplying values in each array elementwise. Note that both the arrays need to have the same dimensions.\n",
    "\n",
    "Condition:- elementwise operation requires the two arrays to have the same dimensions."
   ]
  },
  {
   "cell_type": "markdown",
   "id": "5b109061",
   "metadata": {},
   "source": [
    "Question:-Q10. What is the best way to use a Boolean array to mask another array?\n",
    "    \n",
    "Answer:-The benefit of the masked array module is that you don’t have to modify the shape of the input array, but in my use case I actually just want to throw away the data I don’t care about. This is not desirable in cases where you do tensor computations and where the shape of the input must be preserved.\n",
    "So in our use case we have two arrays, where the second serves as a mask that indicates which elements to keep in the first array. We can use:\n",
    "\n",
    "use numpy.nonzero() for creating a boolean array\n",
    "explicitly cast the masking array as a boolean array\n",
    "create a boolean array based on a logical condition\n",
    "numpy.where()\n",
    "arr = np.array([1,2,3])\n",
    "mask = np.array([0,1,0])\n",
    "Method 2. The same can be achieved with by explicitly casting the mask to a Boolean array:\n",
    "\n",
    ">>> arr[mask.astype(bool)]\n",
    "array([2])\n",
    "Method:-. But the most straightforward usage to me is creating the Boolean array based on a logical operator. Numpy also nicely handles these operations by applying them to each array element:\n",
    "\n",
    ">>> arr[mask != 0]\n",
    "array([2])\n",
    "Method:-. If you use numpy.where with a boolean condition, it is equivalent to using numpy.nonzero():\n",
    "\n",
    ">>> arr[np.where(mask > 0)]\n",
    "array([2])\n",
    "The behavior of numpy.where() is more general because it allows you to pick an element for array-like x or y depending on a Boolean array, where an element from x is picked when the condition is True, and y otherwise. This could simulate a bit of the behavior of the numpy.maskedarray class. E.g. you use the masking array to keep only certain values and set others to NaN and then use numpy functions that ignore NaN values:\n",
    "\n",
    ">>> np.where(mask > 0, arr, np.nan)\n",
    "array([nan,  2., nan])\n",
    ">>> np.mean(arr_nan)  # This will not give correct results\n",
    "nan\n",
    ">>> np.nanmean(arr_nan)  # But this a succesfull operation on the masked array\n",
    "2.0\n",
    "Note that the numpy.where function expects array-like arguments, but will automatically broadcast the value np.nan to an array of the correct shape."
   ]
  },
  {
   "cell_type": "markdown",
   "id": "d360f2bb",
   "metadata": {},
   "source": [
    "Question:-Q11. What are three different ways to get the standard deviation of a wide collection of data using\n",
    "both standard Python and its packages? Sort the three of them by how quickly they execute.\n",
    "\n",
    "Answer:The numpy module of Python provides a function called numpy. std(), used to compute the standard deviation along the specified axis. This function returns the standard deviation of the array elements. The square root of the average square deviation (computed from the mean), is known as the standard deviation.\n",
    "stdev() method in Python statistics module. Statistics module in Python provides a function known as stdev() , which can be used to calculate the standard deviation. stdev() function only calculates standard deviation from a sample of data, rather than an entire population.\n",
    "sqrt() to take the square root of the variance. With this new implementation, we can use ddof=0 to calculate the standard deviation of a population, or we can use ddof=1 to estimate the standard deviation of a population using a sample of data.\n"
   ]
  },
  {
   "cell_type": "markdown",
   "id": "3cf3cabf",
   "metadata": {},
   "source": [
    "Question:-12. What is the dimensionality of a Boolean mask-generated array?\n",
    "\n",
    "Answer:-To keep the same dimensionality you are going to need a fill value. In the example below I use 0, but you could also use np.nan\n",
    "np.where(arr>3, arr, 0)\n",
    "the masked array retains its original dimensions. You can access the underlying data and the mask via the .data and .mask attributes respectively. Most numpy functions will not take into account masked values, e.g.:\n",
    "\n",
    "#mean of whole array\n",
    "print(arr.mean())\n",
    "#26.75\n",
    "\n",
    "#mean of non-masked elements only\n",
    "print(masked_arr.mean())\n",
    "#33.4736842105\n",
    "The result of an element-wise operation on a masked array and a non-masked array will also preserve the values of the mask:"
   ]
  }
 ],
 "metadata": {
  "kernelspec": {
   "display_name": "Python 3 (ipykernel)",
   "language": "python",
   "name": "python3"
  },
  "language_info": {
   "codemirror_mode": {
    "name": "ipython",
    "version": 3
   },
   "file_extension": ".py",
   "mimetype": "text/x-python",
   "name": "python",
   "nbconvert_exporter": "python",
   "pygments_lexer": "ipython3",
   "version": "3.9.7"
  }
 },
 "nbformat": 4,
 "nbformat_minor": 5
}
