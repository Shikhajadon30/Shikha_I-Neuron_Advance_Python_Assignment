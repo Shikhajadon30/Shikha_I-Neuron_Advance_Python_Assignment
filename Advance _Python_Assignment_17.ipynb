{
 "cells": [
  {
   "cell_type": "markdown",
   "id": "cc4d5117",
   "metadata": {},
   "source": [
    "Question:-Q1. Explain the difference between greedy and non-greedy syntax with visual terms in as few words\n",
    "as possible. What is the bare minimum effort required to transform a greedy pattern into a non-greedy\n",
    "one? What characters or characters can you introduce or change?\n",
    "\n",
    "Answer:-A greedy quantifier such as ?, *, +, and {m,n} matches as many characters as possible (longest match). For example, the regex 'a+' will match as many 'a's as possible in your string 'aaaa'—even though the substrings 'a', 'aa', 'aaa' all match the regex 'a+'.\n",
    "A non-greedy quantifier such as ??, *?, +?, and {m,n}? matches as few characters as possible (shortest possible match). For example, the regex 'a+?' will match as few 'a's as possible in your string 'aaaa'. Thus, it matches the first character 'a' and is done with it.\n",
    "In other words, the non-greedy quantifiers give you the shortest possible match from a given position in the string.\n",
    "So the difference between the greedy and the non-greedy match is the following: The greedy match will try to match as many repetitions of the quantified pattern as possible. The non-greedy match will try to match as few repetitions of the quantified pattern as possible.\n",
    "\n",
    "Replace the offending greedy quantifier with the corresponding non-greedy version. That is, change *, +, ?, and {} into *?, +?, ??, and {}?, respectively."
   ]
  },
  {
   "cell_type": "markdown",
   "id": "3f753823",
   "metadata": {},
   "source": [
    "Question:-Q2. When exactly does greedy versus non-greedy make a difference?  What if you're looking for a\n",
    "non-greedy match but the only one available is greedy?\n",
    "\n",
    "Answer:-So the difference between the greedy and the non-greedy match is the following: The greedy match will try to match as many repetitions of the quantified pattern as possible. The non-greedy match will try to match as few repetitions of the quantified pattern as possible.\n",
    "some benchmarks suggest that there’s a significant performance difference: the greedy quantifier is 100% slower"
   ]
  },
  {
   "cell_type": "markdown",
   "id": "2d639a9f",
   "metadata": {},
   "source": [
    "Question:-Q3. In a simple match of a string, which looks only for one match and does not do any replacement, is\n",
    "the use of a nontagged group likely to make any practical difference?\n",
    "\n",
    "Answer:-Yes,the reason for using the non-capturing group is to save memory, as the regex engine doesn’t need to store the groups in the buffer.\n",
    "Use the regex non-capturing group to create a group but don’t save it in the groups of the match."
   ]
  },
  {
   "cell_type": "markdown",
   "id": "5516abe8",
   "metadata": {},
   "source": [
    "Question:-Q4. Describe a scenario in which using a nontagged category would have a significant impact on the\n",
    "program's outcomes.\n",
    "\n",
    "Answer:-Suppose you don’t want to capture the digits before the literal character (.), you can use a non-capturing group like this:\n",
    "\n",
    "import re\n",
    "\n",
    "s = 'Python 3.10'\n",
    "pattern = '(?:\\d+)\\.(\\d+)'\n",
    "\n",
    "match = re.search(pattern, s)\n",
    "\n",
    "#show the whole match\n",
    "print(match.group())\n",
    "\n",
    "#show the groups\n",
    "for group in match.groups():\n",
    "    print(group)\n",
    "Code language: Python (python)\n",
    "Output:\n",
    "\n",
    "3.10\n",
    "10\n",
    "Code language: Python (python)\n",
    "In this example, we use the non-capturing group for the first group:\n",
    "(?:\\d+)"
   ]
  },
  {
   "cell_type": "markdown",
   "id": "ec390199",
   "metadata": {},
   "source": [
    "Question:-Q5. Unlike a normal regex pattern, a look-ahead condition does not consume the characters it\n",
    "examines. Describe a situation in which this could make a difference in the results of your\n",
    "programme.\n",
    "\n",
    "Answer:-Lookahead is used as an assertion in Python regular expressions to determine success or failure whether the pattern is ahead i.e to the right of the parser's current position. They don't match anything. Hence, they are called as zero-width assertions\n",
    "Syntax:\n",
    "#Positive lookahead\n",
    "\n",
    "(?=<lookahead_regex>)\n",
    "\n",
    "They are important when you don’t want the output to return lookahead portion present in search string but want to use it to match pattern which is followed by a particular section. \n",
    "Negative lookahead is opposite of lookahead. It is to assure that the search string is not followed by <lookahead_regex>."
   ]
  },
  {
   "cell_type": "markdown",
   "id": "6df2c6dd",
   "metadata": {},
   "source": [
    "Question:-Q6. In standard expressions, what is the difference between positive look-ahead and negative look-\n",
    "ahead?\n",
    "\n",
    "Answer:-Positive lookahead: (?= «pattern») matches if pattern matches what comes after the current location in the input string. \n",
    "Negative lookahead: (?! «pattern») matches if pattern does not match what comes after the current location in the input string.\n"
   ]
  },
  {
   "cell_type": "markdown",
   "id": "f405ad74",
   "metadata": {},
   "source": [
    "Question:-Q7. What is the benefit of referring to groups by name rather than by number in a standard\n",
    "expression?\n",
    "\n",
    "Answer:-While calling a function, in programming language instead of copying the values of variables, the address of the variables is used it is known as “Call By References. or Call by Name.\n",
    "\n",
    "Some benefits are:-\n",
    "The function can change the value of the argument, which is quite useful.\n",
    "It does not create duplicate data for holding only one value which helps you to save memory space.\n",
    "In this method, there is no copy of the argument made. Therefore it is processed very fast.\n",
    "Helps you to avoid changes done by mistake\n",
    "A person reading the code never knows that the value can be modified in the function."
   ]
  },
  {
   "cell_type": "markdown",
   "id": "d89247fb",
   "metadata": {},
   "source": [
    "Question:-Q8. Can you identify repeated items within a target string using named groups, as in &quot;The cow\n",
    "jumped over the moon ?\n",
    "\n",
    "Answer:-perform matching and searching by calling the regex_match and regex_search functions. Each of these returns a Boolean value. The regex_match function returns true if the target_string matches the pattern stored in regex_obj exactly: That is, the entire target_string must match the pattern completely.\n",
    "\n",
    "regex_match(target_string, regex_obj)\n",
    "The regex_search function returns true if the target string contains any substring that matches the pattern stored in regex_obj.\n",
    "\n",
    "regex_search(target_string, regex_obj)\n",
    "For example, consider the task of finding a repeated word in the sentence:\n",
    "\n",
    "The the cow jumped over the the moon.\n",
    "To find the position of the first substring found, it’s necessary to include another argument:\n",
    "\n",
    "regex_search(target_string, match_info, regex_obj)\n",
    "The match_info object (sm in this case) can be used to obtain information about the search, as follows:\n",
    "\n",
    "match_obj.str()             // Return the matched string\n",
    "match_obj.position()    // Return the position of the matched string\n",
    "For example, the following call finds the position of the first repeated word:\n",
    "\n",
    "std::smatch sm;\n",
    "std::regex reg1(\"([A-Za-z]+) \\\\1\");\n",
    "std::string target=\"The the cow jumped over the the moon.\";\n",
    "bool b = std::regex_search(target, sm, reg1);\n",
    "cout << \"Match found at pos. \" << sm.position() << endl;\n",
    "cout << \"Pattern found was: \" << sm.str() << endl;\n",
    "These statements print:\n",
    "\n",
    "Match was found at pos. 24\n",
    "Pattern found was: the the\n",
    "\n"
   ]
  },
  {
   "cell_type": "markdown",
   "id": "9e32f200",
   "metadata": {},
   "source": [
    "Question:-Q9. When parsing a string, what is at least one thing that the Scanner interface does for you that the\n",
    "re.findall feature does not?\n",
    "\n",
    "Answer:-The re.findall(pattern, string) method scans string from left to right, searching for all non-overlapping matches of the pattern. It returns a list of strings in the matching order when scanning the string from left to right.\n",
    "\n",
    "re.search(pattern, string) returns a match object while re.findall(pattern, string) returns a list of matching strings.\n",
    "re.search(pattern, string) returns only the first match in the string while re.findall(pattern, string) returns all matches in the string.\n",
    "A network scanner is one major tool for analyzing the hosts that are available on the network. A network scanner is an IP scanner that is used for scanning the networks that are connected to several computers.\n",
    "\n",
    "To get the list of the available hosts on a network, there are two basic methods –\n",
    "\n",
    "ICMP Echo Request\n",
    "It is also known by using ‘ping command’. An ICMP packet is sent to a host using the IP address and if the ICMP echo is received, that means that the host is online and is receiving the signals. \n",
    "To overcome the demerits of echo request method, TCP scan method is introduced which works on three-way handshake method. This method has a pre-assumption that the hosts on the networks are open ports and we have to guess which port is open or not. The ports differ in the operating system in which you are using. Different OS has open dependent ports listed below.\n",
    "\n",
    "linux: [20, 21, 22, 23, 25, 80, 111, 443, 445, 631, 993, 995]\n",
    "windows: [135, 137, 138, 139, 445]\n",
    "mac: [22, 445, 548, 631]"
   ]
  },
  {
   "cell_type": "markdown",
   "id": "30ede619",
   "metadata": {},
   "source": [
    "Question:-Q10. Does a scanner object have to be named scanner?\n",
    "    \n",
    "Answer:- Yes,A simple text scanner which can parse primitive types and strings using regular expressions.\n",
    "A Scanner breaks its input into tokens using a delimiter pattern, which by default matches whitespace. The resulting tokens may then be converted into values of different types using the various next methods.\n",
    "\n",
    "For example, this code allows a user to read a number from System.in:\n",
    "\n",
    "Scanner sc = new Scanner(System.in);\n",
    "int i = sc.nextInt();"
   ]
  }
 ],
 "metadata": {
  "kernelspec": {
   "display_name": "Python 3 (ipykernel)",
   "language": "python",
   "name": "python3"
  },
  "language_info": {
   "codemirror_mode": {
    "name": "ipython",
    "version": 3
   },
   "file_extension": ".py",
   "mimetype": "text/x-python",
   "name": "python",
   "nbconvert_exporter": "python",
   "pygments_lexer": "ipython3",
   "version": "3.9.7"
  }
 },
 "nbformat": 4,
 "nbformat_minor": 5
}
