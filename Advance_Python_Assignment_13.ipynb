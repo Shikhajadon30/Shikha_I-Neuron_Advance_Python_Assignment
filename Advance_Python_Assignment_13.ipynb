{
 "cells": [
  {
   "cell_type": "markdown",
   "id": "a831fdbc",
   "metadata": {},
   "source": [
    "Question:-Q1. Can you create a programme or function that employs both positive and negative indexing? Is\n",
    "there any repercussion if you do so?\n",
    "\n",
    "Answer:-Python arrays & list items can be accessed with positive or negative numbers (also known as index).\n",
    "-For instance our array/list is of size n, then for positive index 0 is the first index, 1 second, last index will be n-1. For negative index, -n is the first index, -(n-1) second, last negative index will be – 1.\n",
    "-A negative index accesses elements from the end of the list counting backwards.\n",
    "\n",
    "In the case of basic types, positive indices (and zero must be included there) allow access to the element in position N where N goes from zero onwards. Negative indices allow access to elements from the last (-1) and so on to the second to last (-2), to the first to last (-3), etc., etc.\n",
    "\n",
    "The indices are indicated using indicating them in brackets.\n",
    "\n",
    "We can also specify ranges of indexes (in square brackets, separated by a colon)."
   ]
  },
  {
   "cell_type": "markdown",
   "id": "b78af74c",
   "metadata": {},
   "source": [
    "Question:-Q2. What is the most effective way of starting with 1,000 elements in a Python list? Assume that all\n",
    "elements should be set to the same value.\n",
    "\n",
    "Answer:-"
   ]
  },
  {
   "cell_type": "markdown",
   "id": "4ebf2714",
   "metadata": {},
   "source": [
    "Question:-Q3. How do you slice a list to get any other part while missing the rest? (For example, suppose you\n",
    "want to make a new list with the elements first, third, fifth, seventh, and so on.)\n",
    "    \n",
    "Answer:-In Python, list slicing is a common practice and it is the most used technique for programmers to solve efficient problems. Consider a python list, In-order to access a range of elements in a list, you need to slice a list. One way to do this is to use the simple slicing operator i.e. colon(:)\n",
    "\n",
    "With this operator, one can specify where to start the slicing, where to end, and specify the step. List slicing returns a new list from the existing list.\n",
    "\n",
    "Syntax:\n",
    "\n",
    "Lst[ Initial : End : IndexJump ]\n",
    "If Lst is a list, then the above expression returns the portion of the list from index Initial to index End, at a step size IndexJump."
   ]
  },
  {
   "cell_type": "markdown",
   "id": "75dc4447",
   "metadata": {},
   "source": [
    "Question:-Q4. Explain the distinctions between indexing and slicing.\n",
    "    \n",
    "Answer:-Indexing: Indexing is used to obtain individual elements.\n",
    "\n",
    "Slicing: Slicing is used to obtain a sequence of elements.\n",
    "\n",
    "Indexing and Slicing can be be done in Python Sequences types like list, string, tuple, range objects.\n",
    "\n",
    "Indexing\n",
    "Indexing starts from 0. Index 0 represents the first element in the sequence.\n",
    "\n",
    "Negative indexing starts from -1. Index -1 represents the last element in the sequence.\n",
    "Assigning to an indexed position for immutable objects like strings, tuple, range object will raise a TypeError.\n",
    "\n",
    "Slicing (Range Of Indexes):\n",
    "We can specify a range of indexes.\n",
    "\n",
    "s[i:j:k] — slice of s from i to j with step k\n",
    "Slicing Strings\n",
    "slicing allows you to obtain substring\n",
    "1. s[1:3] — Returns element from the first index to the third index(excluded).\n",
    "\n",
    "s=”Python”\n",
    "print (s[1:3])\n",
    "#Output:yt\n",
    "\n",
    " Slice indices have useful defaults; an omitted first index defaults to zero, an omitted second index defaults to the size of the string being sliced."
   ]
  },
  {
   "cell_type": "markdown",
   "id": "5369a525",
   "metadata": {},
   "source": [
    "Question:-Q5. What happens if one of the slicing expression's indexes is out of range?\n",
    "    \n",
    "Answer:-Python slicing means to access a subsequence of a sequence type using the notation [start:end]. A little-known feature of slicing is that it has robust end indices. Slicing is robust even if the end index is greater than the maximal sequence index. The slice just takes all elements up to the maximal element. If the start index is out of bounds as well, it returns the empty slice.\n",
    "Indexing is supposed to always return one single element. Slicing is supposed to return a subsequence of a variable number of elements. If you index a non-existent element, there’s nothing to return and Python must throw an error—everything else wouldn’t make any sense. But if you slice an out-of-bounds sequence, it makes perfect sense to return an empty sequence."
   ]
  },
  {
   "cell_type": "markdown",
   "id": "889742e9",
   "metadata": {},
   "source": [
    "Question:-Q6. If you pass a list to a function, and if you want the function to be able to change the values of the\n",
    "list—so that the list is different after the function returns—what action should you avoid?\n",
    "\n",
    "Answer:-ists get modified because lists are mutable objects that are\n",
    "capable of being modified, and you modify them :slight_smile:\n",
    "\n",
    "Objects are not copied when you pass them to a function. Any\n",
    "modification you make to the object is visible outside the function.\n",
    "\n",
    "In your example, you are using this:\n",
    "\n",
    "x = [[2,2]]\n",
    "y = [[3,3]]  \n",
    "then inside a function:\n",
    "\n",
    "z = a + b\n",
    "This gives you a new list z = [[2, 2,], [3, 3]] but the inner lists\n",
    "aren’t copies of the oiginal [2, 2] and [3, 3] lists, they are exactly\n",
    "the same lists. Any modifications you make to the inner lists of z are\n",
    "visible everywhere."
   ]
  },
  {
   "cell_type": "markdown",
   "id": "caf5c8a4",
   "metadata": {},
   "source": [
    "Question:-Q7. What is the concept of an unbalanced matrix?\n",
    "    \n",
    "Answer:-A matrix is balanced if all cells in the matrix are balanced and a cell of the matrix is balanced if the number of cells in that matrix that are adjacent to that cell is strictly greater than the value written in this cell. \n",
    "Adjacent cell means cells in the top, down, left, and right cell of each cell if it exists. \n",
    "\n",
    "Examples:  Given a matrix mat[][] of dimensions NxM, the task is to check whether the given matrix is balanced or not. Print “Balanced” if it is a balanced matrix else print “Unbalanced”. \n",
    "\n",
    "\n",
    "Input: N = 3, M = 3 \n",
    "mat[][] = {{1, 2, 3}, \n",
    "{4, 5, 6}, \n",
    "{7, 8, 9}} \n",
    "Output: Unbalanced \n",
    "Explanation: Each cell of the given grid is not stable, so the overall grid is unbalanced.\n",
    "Input: N = 3, M = 3 \n",
    "mat[][] = {{1, 2, 1}, \n",
    "{2, 3, 2}, \n",
    "{1, 2, 1}} \n",
    "Output: Balanced \n",
    "Explanation: Each cell of the given grid is stable, so the overall grid is Balanced. "
   ]
  },
  {
   "cell_type": "markdown",
   "id": "6d896359",
   "metadata": {},
   "source": [
    "Question:-Q8. Why is it necessary to use either list comprehension or a loop to create arbitrarily large matrices?\n",
    "    \n",
    "Answer:-List comprehensions are powerful tools for processing such structures because they automatically scan rows and columns for us. For example, though this structure stores the matrix by rows, to collect the second column we can simply iterate across the rows and pull out the desired column. We can also iterate through positions in the rows and index as we go:\n",
    "\n",
    ">>> [r[2] for r in M1]\n",
    "[3, 6, 9]\n",
    "\n",
    "We typically should use simple for loops when getting started with Python, and map. Use comprehension where they are easy to apply. However, there is a substantial performance advantage to use list comprehension. The map calls are roughly twice as fast as equivalent for loops. List comprehensions are usually slightly faster than map calls. This speed difference is largely due to the fact that map and list comprehensions run at C language speed inside the interpreter. It is much faster that stepping through Python for loop code within the Python Virtual Machine (PVM).\n",
    "\n",
    "However, for loops make logic more explicit, we may want to use them on the grounds of simplicity. On the other hand, map and list comprehensions are worth knowing and using for simpler kinds of iterations if the speed of application is an important factor.\n",
    "\n"
   ]
  }
 ],
 "metadata": {
  "kernelspec": {
   "display_name": "Python 3 (ipykernel)",
   "language": "python",
   "name": "python3"
  },
  "language_info": {
   "codemirror_mode": {
    "name": "ipython",
    "version": 3
   },
   "file_extension": ".py",
   "mimetype": "text/x-python",
   "name": "python",
   "nbconvert_exporter": "python",
   "pygments_lexer": "ipython3",
   "version": "3.9.7"
  }
 },
 "nbformat": 4,
 "nbformat_minor": 5
}
