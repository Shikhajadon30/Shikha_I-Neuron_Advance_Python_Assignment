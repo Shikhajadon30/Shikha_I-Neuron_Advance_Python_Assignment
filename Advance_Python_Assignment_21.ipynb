{
 "cells": [
  {
   "cell_type": "markdown",
   "id": "481923f7",
   "metadata": {},
   "source": [
    "Question:-Q1. What is a probability distribution, exactly? If the values are meant to be random, how can you\n",
    "predict them at all?\n",
    "\n",
    "Answer:-In probability theory and statistics, a probability distribution is the mathematical function that gives the probabilities of occurrence of different possible outcomes for an experiment. It is a mathematical description of a random phenomenon in terms of its sample space and the probabilities of events.\n",
    "Expected value is exactly what you might think it means intuitively: the return you can expect for some kind of action, like how many questions you might get right if you guess on a multiple choice test.\n",
    "For example, if you take a 20 question multiple-choice test with A,B,C,D as the answers, and you guess all “A”, then you can expect to get 25% right (5 out of 20). The math behind this kind of expected value is:\n",
    "The probability (P) of getting a question right if you guess: .25\n",
    "The number of questions on the test (n)*: 20\n",
    "P x n = .25 x 20 = 5\n",
    "Expected Value for Continuous Random Variables\n",
    "The expected value of a random variable is just the mean of the random variable. You can calculate the EV of a continuous random variable using this formula:\n",
    "Expected value formula for continuous random variables."
   ]
  },
  {
   "cell_type": "markdown",
   "id": "8dbc40df",
   "metadata": {},
   "source": [
    "Question:-Q2. Is there a distinction between true random numbers and pseudo-random numbers, if there is\n",
    "one? Why are the latter considered “good enough”?\n",
    "\n",
    "Answer:-The difference between true random number generators(TRNGs) and pseudo-random number generators(PRNGs) is that TRNGs use an unpredictable physical means to generate numbers (like atmospheric noise), and PRNGs use mathematical algorithms (completely computer-generated).\n",
    "Pseudo-RNG's are sets of algorithms (i.e. logical instructions for by a computer program) that utilize mathematical formulas to produce a certain sequence of numbers that will appear random, or at least will have the effect of randomness. Other RNG's use pre-calculated tables instead of mathematical formulas, but either way table or formula, the objective is still the same.\n",
    "A lot of research has been done (and is still ongoing) on RNG's insomuch that our modern algorithms used for Pseudo-RNG's produce number sequences that do exactly mimic truly random sequences. But that may be the outcome of today's research there is still room for improvement since the results of Pseudo-RNG's are really \"pseudo\".\n",
    "Comparing the results of a Pseudo-RNG with that from a True-RNG will prove useful. If you list down the results of a Pseudo-RNG mimicking dice rolls the numbers will really appear as if they are random. But statistical analysis will prove that the numbers produced by a Pseudo-RNG is not really random but is rather predetermined. Thus its results can be measured and standardized, and, we can say, controlled.\n",
    "True-RNG's behave differently since the results are truly random and unpredictable. If we try to get a computer to produce a really random sequence of numbers then the computer must base its numbers on a naturally occurring physical phenomenon, which may include the radioactive decay of isotopes, static in the airwaves, and the waves of the sea. True-RNG's will not really be cost-efficient if you compare it to Pseudo-RNG's. True-RNG's will be subject to wear and tear since all things natural will really be subject to entropy. A Pseudo-RNG will not be subject to such physical phenomena.\n",
    "Another efficiency of a Pseudo-RNG is that you can reproduce the same sequence of numbers in another time by simply knowing the starting point of the sequence (thus it is also periodic and the sequence will repeat itself in due time). This better facilitates inspections done by casino control boards. But you can be sure that the sequence of numbers produced by a Pseudo-RNG, though periodic, the time to reproduce the same sequence will eventually take a really long time that unless you acquire the actual algorithms, the correct sequence will be very difficult (almost impossible) to crack.\n",
    "Many online casinos have settled for Pseudo-RNG's for its cost-efficiency, periodicity, and efficiency. These are good reasons to choose this type of random number generator, though a True-RNG will also have its own benefits as well."
   ]
  },
  {
   "cell_type": "markdown",
   "id": "d8b19404",
   "metadata": {},
   "source": [
    "Question:-Q3. What are the two main factors that influence the behaviour of a &quot;normal&quot; probability distribution?\n",
    "\n",
    "Answer:-The two main parameters of a (normal) distribution are the mean and standard deviation. The parameters determine the shape and probabilities of the distribution. The shape of the distribution changes as the parameter values change.\n",
    "\n",
    "1. Mean\n",
    "The mean is used by researchers as a measure of central tendency. It can be used to describe the distribution of variables measured as ratios or intervals. In a normal distribution graph, the mean defines the location of the peak, and most of the data points are clustered around the mean. Any changes made to the value of the mean move the curve either to the left or right along the X-axis.\n",
    "\n",
    "2. Standard Deviation\n",
    "The standard deviation measures the dispersion of the data points relative to the mean. It determines how far away from the mean the data points are positioned and represents the distance between the mean and the observations.\n",
    "\n",
    "On the graph, the standard deviation determines the width of the curve, and it tightens or expands the width of the distribution along the x-axis. Typically, a small standard deviation relative to the mean produces a steep curve, while a large standard deviation relative to the mean produces a flatter curve."
   ]
  },
  {
   "cell_type": "markdown",
   "id": "da723ff2",
   "metadata": {},
   "source": [
    "Question:-Q4. Provide a real-life example of a normal distribution.\n",
    "\n",
    "Answer:- Income Distribution In Economy:- The income of a country lies in the hands of enduring politics and government. It depends upon them how they distribute the income among the rich and poor community. We all are well aware of the fact that the middle-class population is a bit higher than the rich and poor population. So, the wages of the middle-class population makes the mean in the normal distribution curve.\n",
    "\n",
    "Rolling A Dice:-A fair rolling of dice is also a good example of normal distribution. In an experiment, it has been found that when a dice is rolled 100 times, chances to get ‘1’ are 15-18% and if we roll the dice 1000 times, the chances to get ‘1’ is, again, the same, which averages to 16.7% (1/6). If we roll two dices simultaneously, there are 36 possible combinations. The probability of rolling ‘1’ (with six possible combinations) again averages to around 16.7%, i.e., (6/36). More the number of dices more elaborate will be the normal distribution graph."
   ]
  },
  {
   "cell_type": "markdown",
   "id": "ad3a4520",
   "metadata": {},
   "source": [
    "Question:-Q5. In the short term, how can you expect a probability distribution to behave? What do you think will\n",
    "happen as the number of trials grows?\n",
    "\n",
    "Answer:-A probability distribution is a statistical function that describes all the possible values and likelihoods that a random variable can take within a given range. This range will be bounded between the minimum and maximum possible values, but precisely where the possible value is likely to be plotted on the probability distribution depends on a number of factors. These factors include the distribution's mean (average), standard deviation\n",
    "Perhaps the most common probability distribution is the normal distribution, or \"bell curve,\" although several distributions exist that are commonly used. Typically, the data generating process of some phenomenon will dictate its probability distribution. This process is called the probability density function.\n",
    "\n",
    "Probability distributions can also be used to create cumulative distribution functions (CDFs), which adds up the probability of occurrences cumulatively and will always start at zero and end at 100%.\n",
    "Since the fractional width decreases with increasing N, the number of outcomes for which there is an appreciable probability becomes a smaller and smaller fraction of all possible outcomes as the number of trials increases."
   ]
  },
  {
   "cell_type": "markdown",
   "id": "116e26bb",
   "metadata": {},
   "source": [
    "Question:-Q6. What kind of object can be shuffled by using random shuffle?\n",
    "\n",
    "Answer:-To randomly shuffle elements of lists (list), strings (str), and tuples (tuple) in Python, use the random module.\n",
    "\n",
    "random — Generate pseudo-random numbers — Python 3.8.1 documentation\n",
    "random provides shuffle() that shuffles the original list in place, and sample() that returns a new list that is randomly shuffled. sample() can also be used for strings and tuples.\n",
    "\n",
    "random.shuffle() shuffles the original list\n",
    "random.sample() returns a new shuffled list\n",
    "Shuffle strings and tuples\n",
    "Initialize the random number generator with random.seed()."
   ]
  },
  {
   "cell_type": "markdown",
   "id": "3bee214c",
   "metadata": {},
   "source": [
    "Question:-Q7. Describe the math package's general categories of functions.\n",
    "\n",
    "Answer:-This module provides access to the mathematical functions defined by the C standard.\n",
    "\n",
    "These functions cannot be used with complex numbers; use the functions of the same name from the cmath module if you require support for complex numbers. The distinction between functions which support complex numbers and those which don’t is made since most users do not want to learn quite as much mathematics as required to understand complex numbers. Receiving an exception instead of a complex result allows earlier detection of the unexpected complex number used as a parameter, so that the programmer can determine how and why it was generated in the first place.\n",
    "\n",
    "The following functions are provided by this module. Except when explicitly noted otherwise, all return values are floats.\n",
    "Number-theoretic and representation functions\n",
    "math.ceil(x)\n",
    "Return the ceiling of x, the smallest integer greater than or equal to x. If x is not a float, delegates to x.__ceil__, which should return an Integral value.\n",
    "\n",
    "math.comb(n, k)\n",
    "Return the number of ways to choose k items from n items without repetition and without order.\n",
    "\n",
    "Evaluates to n! / (k! * (n - k)!) when k <= n and evaluates to zero when k > n.\n",
    "\n",
    "Also called the binomial coefficient because it is equivalent to the coefficient of k-th term in polynomial expansion of the expression (1 + x) ** n.\n",
    "math.copysign(x, y)\n",
    "Return a float with the magnitude (absolute value) of x but the sign of y. On platforms that support signed zeros, copysign(1.0, -0.0) returns -1.0.\n",
    "\n",
    "math.fabs(x)\n",
    "Return the absolute value of x.\n",
    "\n",
    "math.factorial(x)\n",
    "Return x factorial as an integer. Raises ValueError if x is not integral or is negative.\n",
    "\n",
    "Deprecated since version 3.9: Accepting floats with integral values (like 5.0) is deprecated.\n",
    "\n",
    "math.floor(x)\n",
    "Return the floor of x, the largest integer less than or equal to x. If x is not a float, delegates to x.__floor__, which should return an Integral value.\n",
    "\n",
    "math.fmod(x, y)\n",
    "Return fmod(x, y), as defined by the platform C library. Note that the Python expression x % y may not return the same result. The intent of the C standard is that fmod(x, y) be exactly (mathematically; to infinite precision) equal to x - n*y for some integer n such that the result has the same sign as x and magnitude less than abs(y). Python’s x % y returns a result with the sign of y instead, and may not be exactly computable for float arguments. For example, fmod(-1e-100, 1e100) is -1e-100, but the result of Python’s -1e-100 % 1e100 is 1e100-1e-100, which cannot be represented exactly as a float, and rounds to the surprising 1e100. For this reason, function fmod() is generally preferred when working with floats, while Python’s x % y is preferred when working with integers.\n",
    "\n",
    "math.frexp(x)\n",
    "Return the mantissa and exponent of x as the pair (m, e). m is a float and e is an integer such that x == m * 2**e exactly. If x is zero, returns (0.0, 0), otherwise 0.5 <= abs(m) < 1. This is used to “pick apart” the internal representation of a float in a portable way.\n",
    "\n",
    "math.fsum(iterable)\n",
    "Return an accurate floating point sum of values in the iterable. Avoids loss of precision by tracking multiple intermediate partial sums. etc."
   ]
  },
  {
   "cell_type": "markdown",
   "id": "1275b43c",
   "metadata": {},
   "source": [
    "Question:-Q8. What is the relationship between exponentiation and logarithms?\n",
    "\n",
    "Answer:-Logarithmic functions are the inverses of exponential functions. The inverse of the exponential function y = ax is x = ay. The logarithmic function y = logax is defined to be equivalent to the exponential equation x = ay. y = logax only under the following conditions: x = ay, a > 0, and a≠1. It is called the logarithmic function with base a.\n",
    "\n",
    "Consider what the inverse of the exponential function means: x = ay. Given a number x and a base a, to what power y must a be raised to equal x? This unknown exponent, y, equals logax. So you see a logarithm is nothing more than an exponent. By definition, alogax = x, for every real x > 0.\n",
    "\n",
    "Below are pictured graphs of the form y = logax when a > 1 and when 0 < a < 1. Notice that the domain consists only of the positive real numbers, and that the function always increases as x increases.\n",
    "Two graphs of y = logax. On the left, y = log10x, and on the right, y = logx.\n",
    "The domain of a logarithmic function is real numbers greater than zero, and the range is real numbers. The graph of y = logax is symmetrical to the graph of y = ax with respect to the line y = x. This relationship is true for any function and its inverse.\n"
   ]
  },
  {
   "cell_type": "markdown",
   "id": "bd8f40e0",
   "metadata": {},
   "source": [
    "Question:-Q9. What are the three logarithmic functions that Python supports?\n",
    "\n",
    "Answer:-Python offers many inbuild logarithmic functions under the module “math” which allows us to compute logs using a single line. There are 4 variants of logarithmic functions, all of which are discussed in this article.\n",
    "1. log(a,(Base)) : This function is used to compute the natural logarithm (Base e) of a. If 2 arguments are passed, it computes the logarithm of the desired base of argument a, numerically value of log(a)/log(Base).\n",
    " \n",
    "Syntax :\n",
    "math.log(a,Base)\n",
    "Parameters : \n",
    "a : The numeric value\n",
    "Base :  Base to which the logarithm has to be computed.\n",
    "Return Value : \n",
    "Returns natural log if 1 argument is passed and log with\n",
    "specified base if 2 arguments are passed.\n",
    "Exceptions : \n",
    "Raises ValueError if a negative no. is passed as argument.\n",
    "\n",
    "2. log2(a) : This function is used to compute the logarithm base 2 of a. Displays more accurate result than log(a,2).\n",
    "\n",
    "Syntax :\n",
    "math.log2(a)\n",
    "Parameters : \n",
    "a : The numeric value\n",
    "Return Value : \n",
    "Returns logarithm base 2 of a\n",
    "Exceptions : \n",
    "Raises ValueError if a negative no. is passed as argument.\n",
    "\n",
    "3. log10(a) : This function is used to compute the logarithm base 10 of a. Displays more accurate result than log(a,10).\n",
    "\n",
    "Syntax :\n",
    "math.log10(a)\n",
    "Parameters : \n",
    "a : The numeric value\n",
    "Return Value : \n",
    "Returns logarithm base 10 of a\n",
    "Exceptions : \n",
    "Raises ValueError if a negative no. is passed as argument.\n",
    "\n",
    "4. log1p(a) : This function is used to compute logarithm(1+a) . \n",
    "\n",
    "Syntax :\n",
    "math.log1p(a)\n",
    "Parameters : \n",
    "a : The numeric value\n",
    "Return Value : \n",
    "Returns log(1+a)\n",
    "Exceptions : \n",
    "Raises ValueError if a negative no. is passed as argument.\n",
    "\n"
   ]
  }
 ],
 "metadata": {
  "kernelspec": {
   "display_name": "Python 3 (ipykernel)",
   "language": "python",
   "name": "python3"
  },
  "language_info": {
   "codemirror_mode": {
    "name": "ipython",
    "version": 3
   },
   "file_extension": ".py",
   "mimetype": "text/x-python",
   "name": "python",
   "nbconvert_exporter": "python",
   "pygments_lexer": "ipython3",
   "version": "3.9.7"
  }
 },
 "nbformat": 4,
 "nbformat_minor": 5
}
