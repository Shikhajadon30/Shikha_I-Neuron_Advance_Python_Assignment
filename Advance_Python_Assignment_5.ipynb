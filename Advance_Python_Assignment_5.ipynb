{
 "cells": [
  {
   "cell_type": "raw",
   "id": "4b79f6e8",
   "metadata": {},
   "source": [
    "Question:-Q1. What is the meaning of multiple inheritance?\n",
    "\n",
    "Answer:-Multiple Inheritance : Multiple inheritance is a feature of some object-oriented computer programming languages in which an object or class can inherit characteristics and features from more than one parent object or the parent class .\n",
    "\n",
    "Pros:\n",
    "\n",
    "It allows a class to inherit the functionality of more than one base class; thus allowing for modeling of complex relationships.\n",
    "\n",
    "You categorize classes in many different ways. Multiple inheritance is a way of showing our natural tendency to organize the world. During analysis, for example, we use multiple inheritance to capture the way users classify objects.\n",
    "\n",
    "By having multiple superclasses, your subclass has more opportunities to reuse the inherited attributes and operations of the superclasses.\n",
    "\n",
    "Application development time is less and application takes less memory.\n",
    "\n",
    "Cons:\n",
    "\n",
    "It can lead to a lot of confusion when two base classes implement a method with the same name.\n",
    "\n",
    "The more superclasses your subclass inherits from, the more maintenance you are likely to perform. If one of the superclasses happens to change, the subclass may have to change as well."
   ]
  },
  {
   "cell_type": "raw",
   "id": "29a1d4d4",
   "metadata": {},
   "source": [
    "Question:-Q2. What is the concept of delegation?\n",
    "\n",
    "Answer:-What is delegation?\n",
    "\n",
    "Delegation is an object oriented technique (also called a design pattern). Let's say you have an object x and want to change the behaviour of just one of its methods. You can create a new class that provides a new implementation of the method you're interested in changing and delegates all other methods to the corresponding method of x.\n",
    "\n",
    "Python programmers can easily implement delegation. For example, the following class implements a class that behaves like a file but converts all written data to uppercase:\n",
    "\n",
    "class UpperOut:\n",
    "def __init__(self, outfile):\n",
    "self.__outfile = outfile\n",
    "def write(self, s):\n",
    "self.__outfile.write(s.upper())\n",
    "def __getattr__(self, name):\n",
    "return getattr(self.__outfile, name)\n",
    "\n",
    "Here the UpperOut class redefines the write() method to convert the argument string to uppercase before calling the underlying self.__outfile.write() method. All other methods are delegated to the underlying self.__outfile object. The delegation is accomplished via the __getattr__ method; consult the language reference for more information about controlling attribute access.\n"
   ]
  },
  {
   "cell_type": "raw",
   "id": "12a6c3eb",
   "metadata": {},
   "source": [
    "Question:-Q3. What is the concept of composition?\n",
    "    \n",
    "Answer:- Composition is a concept that models a has a relationship. It enables creating complex types by combining objects of other types. This means that a class Composite can contain an object of another class Component. This relationship means that a Composite has a Component.\n",
    "Composition is represented through a line with a diamond at the composite class pointing to the component class. The composite side can express the cardinality of the relationship. The cardinality indicates the number or valid range of Component instances the Composite class will contain."
   ]
  },
  {
   "cell_type": "raw",
   "id": "d2ea9099",
   "metadata": {},
   "source": [
    "Question:-Q4. What are bound methods and how do we use them?\n",
    "\n",
    "Answer:-A bound method is the one which is dependent on the instance of the class as the first argument. It passes the instance as the first argument which is used to access the variables and functions. In Python 3 and newer versions of python, all functions in the class are by default bound methods.\n",
    "\n",
    "# Python code to demonstrate use of bound methods\n",
    "  \n",
    "class A:\n",
    "  \n",
    "    def func(self, arg):\n",
    "        self.arg = arg\n",
    "        print(\"Value of arg = \", arg)\n",
    "  \n",
    "  \n",
    "# Creating an instance\n",
    "obj = A()  \n",
    "  \n",
    "# bound method\n",
    "print(obj.func)\n",
    "\n",
    "Output:\n",
    "< bound method A.func of <__main__.A object at 0x7fb81c5a09e8>>"
   ]
  },
  {
   "cell_type": "raw",
   "id": "d351bf02",
   "metadata": {},
   "source": [
    "Question:-Q5. What is the purpose of pseudoprivate attributes?\n",
    "    \n",
    "Answer:-Pseudoprivate attributes are also useful in larger frameworks or tools, both to avoid introducing new method names that might accidentally hide definitions elsewhere in the class tree and to reduce the chance of internal methods being replaced by names defined lower in the tree."
   ]
  }
 ],
 "metadata": {
  "kernelspec": {
   "display_name": "Python 3 (ipykernel)",
   "language": "python",
   "name": "python3"
  },
  "language_info": {
   "codemirror_mode": {
    "name": "ipython",
    "version": 3
   },
   "file_extension": ".py",
   "mimetype": "text/x-python",
   "name": "python",
   "nbconvert_exporter": "python",
   "pygments_lexer": "ipython3",
   "version": "3.9.7"
  }
 },
 "nbformat": 4,
 "nbformat_minor": 5
}
