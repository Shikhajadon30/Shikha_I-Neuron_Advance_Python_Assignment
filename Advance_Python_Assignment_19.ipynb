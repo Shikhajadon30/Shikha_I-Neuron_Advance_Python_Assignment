{
 "cells": [
  {
   "cell_type": "markdown",
   "id": "2bf665dc",
   "metadata": {},
   "source": [
    "Question:-Q1. Define the relationship between a class and its instances. Is it a one-to-one or a one-to-many\n",
    "partnership, for example?\n",
    "\n",
    "Answer:-A class is a blueprint that is needed to make an object(= instance). The difference between an object and an instance is, an object is a thing and an instance is a relation. In other words, instance describes the relation of an object to the class that the object was made\n",
    "An object is an instance of a class, and may be called a class instance or class object; instantiation is then also known as construction. Not all classes can be instantiated – abstract classes cannot be instantiated, while classes that can be instantiated are called concrete classes.\n",
    "\n",
    "It can have one to many elationship."
   ]
  },
  {
   "cell_type": "markdown",
   "id": "f14a23bd",
   "metadata": {},
   "source": [
    "Question:-Q2. What kind of data is held only in an instance?\n",
    "\n",
    "Answer:-Instance variables hold values that must be referenced by more than one method, constructor or block, or essential parts of an object's state that must be present throughout the class. Instance variables can be declared at the class level before or after use. Access modifiers can be given for instance variables.\n",
    "Instance variables have default values. For numbers, the default value is 0, for Booleans it is false, and for object references it is null. Values can be assigned during the declaration or within the constructor."
   ]
  },
  {
   "cell_type": "markdown",
   "id": "b332b732",
   "metadata": {},
   "source": [
    "Question:-Q3. What kind of knowledge is stored in a class?\n",
    "\n",
    "Answer:-Python uses dictionaries to store class and instance variables. Class variables share the same dictionary across all instances of the class, and instance variables are stored in a unique dictionary per instance. The class dict is stored in <class>. __dict__ , and this is referenced on an instance with <obj>.\n",
    "    a Python class is for defining a particular type of object. Because Python objects can have both function and data elements, Python classes define what methods can be used to change the state of an object. They also indicate what attributes the object can have.\n",
    "    Classes commonly contains data field to store the data and methods for defining behaviors. Also every class in python contains a special method called initializer (also commonly known as constructors), which get invoked automatically every time new object is created."
   ]
  },
  {
   "cell_type": "markdown",
   "id": "d06c2149",
   "metadata": {},
   "source": [
    "Question:-Q4. What exactly is a method, and how is it different from a regular function?\n",
    "\n",
    "Answer:-A method in python is somewhat similar to a function, except it is associated with object/classes. Methods in python are very similar to functions except for two major differences. The method is implicitly used for an object for which it is called. The method is accessible to data that is contained within the class.\n",
    "\n",
    "Example:-\n",
    "class Pet(object):\n",
    "   def my_method(self):\n",
    "      print(\"I am a Cat\")\n",
    "cat = Pet()\n",
    "cat.my_method()\n",
    "Output\n",
    "I am a Cat\n",
    "\n",
    "Unlike a function, methods are called on an object. Like in our example above we call our method .i.e. “my_method” on the object “cat” whereas the function “sum” is called without any object. Also, because the method is called on an object, it can access that data within it.\n",
    "\n",
    "Unlike method which can alter the object’s state, python function doesn’t do this and normally operates on it.\n",
    "\n",
    "In Short, a method is a function which belongs to an object."
   ]
  },
  {
   "cell_type": "markdown",
   "id": "c7223138",
   "metadata": {},
   "source": [
    "Question:-Q5. Is inheritance supported in Python, and if so, what is the syntax?\n",
    "\n",
    "Answer:-Inheritance is an important aspect of the object-oriented paradigm. Inheritance provides code reusability to the program because we can use an existing class to create a new class instead of creating it from scratch.\n",
    "\n",
    "In inheritance, the child class acquires the properties and can access all the data members and functions defined in the parent class. A child class can also provide its specific implementation to the functions of the parent class. In this section of the tutorial, we will discuss inheritance in detail.\n",
    "\n",
    "In python, a derived class can inherit base class by just mentioning the base in the bracket after the derived class name. Consider the following syntax to inherit a base class into the derived class.\n",
    "\n",
    "Syntax\n",
    "class derived-class(base class):  \n",
    "<class-suite>   \n",
    "    \n",
    "A class can inherit multiple classes by mentioning all of them inside the bracket. Consider the following syntax.\n",
    "    class derive-class(<base class 1>, <base class 2>, ..... <base class n>):  \n",
    "    <class - suite> "
   ]
  },
  {
   "cell_type": "markdown",
   "id": "ce25883e",
   "metadata": {},
   "source": [
    "Question:-Q6. How much encapsulation (making instance or class variables private) does Python support?\n",
    "\n",
    "Answer:-Encapsulation is one of the fundamental concepts in object-oriented programming (OOP). It describes the idea of wrapping data and the methods that work on data within one unit. This puts restrictions on accessing variables and methods directly and can prevent the accidental modification of data. To prevent accidental change, an object’s variable can only be changed by an object’s method. Those types of variables are known as private variables.\n",
    "\n",
    "A class is an example of encapsulation as it encapsulates all the data that is member functions, variables, etc."
   ]
  },
  {
   "cell_type": "markdown",
   "id": "736aff4b",
   "metadata": {},
   "source": [
    "Question:-Q7. How do you distinguish between a class variable and an instance variable?\n",
    "\n",
    "Answer:-Following are the notable differences between Class (static) and instance variables.\n",
    "\n",
    "1.Instance variables are declared in a class, but outside a method, constructor or any block.\tClass variables also known as      static variables are declared with the static keyword in a class, but outside a method, constructor or a block.\n",
    "2.Instance variables are created when an object is created with the use of the keyword 'new' and destroyed when the object is     destroyed.\t\n",
    "   Static variables are created when the program starts and destroyed when the program stops.\n",
    "3.Instance variables can be accessed directly by calling the variable name inside the class. However, within static methods       (when instance variables are given accessibility), they should be called using the fully qualified name.                       ObjectReference.VariableName.Static variables can be accessed by calling with the class name ClassName.VariableName.\n",
    "4.Instance variables hold values that must be referenced by more than one method, constructor or block, or essential parts of     an object's state that must be present throughout the class.There would only be one copy of each class variable per class,    regardless of how many object"
   ]
  },
  {
   "cell_type": "markdown",
   "id": "8dc887fe",
   "metadata": {},
   "source": [
    "Question:-Q8. When, if ever, can self be included in a class's method definitions?\n",
    "\n",
    "Answer:-self represents the instance of the class. By using the “self”  we can access the attributes and methods of the class in python. It binds the attributes with the given arguments.\n",
    "The reason you need to use self. is because Python does not use the @ syntax to refer to instance attributes. Python decided to do methods in a way that makes the instance to which the method belongs be passed automatically, but not received automatically: the first parameter of methods is the instance the method is called on.\n",
    "\n",
    "In more clear way you can say that SELF has following Characteristic-\n",
    "\n",
    "Self is always pointing to Current Object.\n",
    "Self is the first argument to be passed in Constructor and Instance Method.\n",
    "\n",
    "Self must be provided as a First parameter to the Instance method and constructor. If you don’t provide it, it will cause an error.Self is a convention and not a Python keyword .\n",
    "\n",
    "self is parameter in Instance Method and user can use another parameter name in place of it. But it is advisable to use self because it increases the readability of code, and it is also a good programming practice."
   ]
  },
  {
   "cell_type": "raw",
   "id": "8a89edbb",
   "metadata": {},
   "source": [
    "Question:-Q9. What is the difference between the _ _add_ _ and the _ _radd_ _ methods?\n",
    "\n",
    "Answer:-The __add__() method in Python specifies what happens when you call + on two objects. When you call obj1 + obj2, you are essentially calling obj1. __add__(obj2). For example, let's call + on two int objects: n1 = 10.\n",
    "\n",
    "The Python __radd__() method implements the reverse addition operation that is addition with reflected, swapped operands. So, when you call x + y, Python attempts to call x.__add__(y). Only if the method is not implemented on the left operrand, Python attempts to call __radd__ on the right operand and if this isn’t implemented either, it raises a TypeError.\n",
    "\n",
    "Say, you want to calculate the + operation on two custom objects x and y:\n",
    "print(x + y)\n",
    "Python first tries to call the left object’s __add__() method x.__add__(y). But this may fail for two reasons:\n",
    "The method x.__add__() is not implemented in the first place, or\n",
    "The method x.__add__() is implemented but returns a NotImplemented value indicating that the data types are incompatible.\n",
    "If this fails, Python tries to fix it by calling the y.__radd__() for reverse addition on the right operand y.\n",
    "\n",
    "If the reverse addition method is implemented, Python knows that it doesn’t run into a potential problem of a non-commutative operation. If it would just execute y.__add__(x) instead of x.__add__(y), the result would be wrong because the operation may be non-commutative when defined as a custom operation. That’s why y.__radd__(x) is needed.\n",
    "So, the difference between x.__add__(y) and x.__radd__(y) is that the former calculates x + y whereas the latter calculates y + x — both calling the respective method defined on the object x.\n"
   ]
  },
  {
   "cell_type": "raw",
   "id": "b9f3e289",
   "metadata": {},
   "source": [
    "Question:-Q10. When is it necessary to use a reflection method? When do you not need it, even though you\n",
    "support the operation in question?\n",
    "\n",
    "Answer:-Reflection refers to the ability for code to be able to examine attributes about objects that might be passed as parameters to a function. For example, if we write type(obj) then Python will return an object which represents the type of obj\n",
    "sing reflection, we can write one recursive reverse function that will work for strings, lists, and any other sequence that supports slicing and concatenation. If an obj is a reference to a string, then Python will return the str type object. Further, if we write str() we get a string which is the empty string. In other words, writing str() is the same thing as writing “”. Likewise, writing list() is the same thing as writing [].\n",
    "I would say \"no reflection for non-public members in production code\" and \"use reflection with care!\" if not used correctly, you could lose performance. Used correctly could make you gain performance (just think about static reflection) Don't use reflection for massivly called code."
   ]
  },
  {
   "cell_type": "markdown",
   "id": "e3ff5fd5",
   "metadata": {},
   "source": [
    "Question:-Q11. What is the _ _iadd_ _ method called?\n",
    "\n",
    "Answer:-iadd()\n",
    "This function allows us to assign and add current value. This operation behaves like “a+=b” operation. Assigning can’t be performed in case of immutable data types, such as strings and tuples.\n",
    "\n",
    "Example\n",
    "import operator as op\n",
    "\n",
    "#using iadd() to add\n",
    "int1 = op.iadd(786,0);\n",
    "\n",
    "#displaying value\n",
    "print (\"The value : \", end=\"\")\n",
    "print (int1)\n",
    "Output\n",
    "The value : 786"
   ]
  },
  {
   "cell_type": "markdown",
   "id": "4fdc81a5",
   "metadata": {},
   "source": [
    "Question:-Q12. Is the _ _init_ _ method inherited by subclasses? What do you do if you need to customize its\n",
    "behavior within a subclass?\n",
    "\n",
    "Answer:-The __init__ method is the Python equivalent of the C++ constructor in an object-oriented approach. The __init__  function is called every time an object is created from a class. The __init__ method lets the class initialize the object’s attributes and serves no other purpose. It is only used within classes. \n",
    "n Python, a constructor does not necessarily need parameters passed to it. There can be default parameters. A constructor with no mandatory parameters is called a default constructor. Let’s rewrite our class with a default constructor:"
   ]
  }
 ],
 "metadata": {
  "kernelspec": {
   "display_name": "Python 3 (ipykernel)",
   "language": "python",
   "name": "python3"
  },
  "language_info": {
   "codemirror_mode": {
    "name": "ipython",
    "version": 3
   },
   "file_extension": ".py",
   "mimetype": "text/x-python",
   "name": "python",
   "nbconvert_exporter": "python",
   "pygments_lexer": "ipython3",
   "version": "3.9.7"
  }
 },
 "nbformat": 4,
 "nbformat_minor": 5
}
