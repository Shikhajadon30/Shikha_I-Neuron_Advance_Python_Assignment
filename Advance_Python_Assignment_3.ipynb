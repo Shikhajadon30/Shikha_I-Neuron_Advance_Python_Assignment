{
 "cells": [
  {
   "cell_type": "raw",
   "id": "705ce02a",
   "metadata": {},
   "source": [
    "Question:- 1. What is the concept of an abstract superclass?\n",
    "    \n",
    "Answer:-An abstract superclass is one way to provide re-usable code. We can extend the abstract class and inherit the code. This is sometimes more convenient than using static methods or object composition to share code. The abstract class can \"fix\" parts of the code (by making it final)."
   ]
  },
  {
   "cell_type": "code",
   "execution_count": null,
   "id": "3f10e564",
   "metadata": {},
   "outputs": [],
   "source": []
  },
  {
   "cell_type": "raw",
   "id": "7ac70e45",
   "metadata": {},
   "source": [
    "Question:- 2. What happens when a class statement's top level contains a basic assignment statement?\n",
    "\n",
    "Answer:- In computer programming, an assignment statement sets and/or re-sets the value stored in the storage location(s) denoted by a variable name; in other words, it copies a value into the variable.\n",
    "\n",
    "An assignment statement evaluates the expression list (remember that this can be a single expression or a comma-separated list, the latter yielding a tuple) and assigns the single resulting object to each of the target lists, from left to right.\n",
    "\n",
    "An assignment statement stores a value in a variable.\n",
    "\n",
    "variableName = 6"
   ]
  },
  {
   "cell_type": "code",
   "execution_count": null,
   "id": "14b9383d",
   "metadata": {},
   "outputs": [],
   "source": []
  },
  {
   "cell_type": "raw",
   "id": "a2457315",
   "metadata": {},
   "source": [
    "Question:- 3. Why does a class need to manually call a superclass's __init__ method?\n",
    " \n",
    "Answer:- It's because one needs to define something that is NOT done in the base-class' init , and the only possibility to obtain that is to put its execution in a derived-class' init function."
   ]
  },
  {
   "cell_type": "code",
   "execution_count": null,
   "id": "cfe1c36d",
   "metadata": {},
   "outputs": [],
   "source": []
  },
  {
   "cell_type": "raw",
   "id": "06ddd722",
   "metadata": {},
   "source": [
    "Question:- 4. How can you augment, instead of completely replacing, an inherited method?\n",
    "\n",
    "Answer:- To augment, instead of completely replacing, an inherited method redifine it in a subclass, but call back to the superclass version of the method manually from the new ersion of the method in the subclass. That is, pass the self instance to the superclass version of the method manually:Superclass.method(self,...)."
   ]
  },
  {
   "cell_type": "code",
   "execution_count": null,
   "id": "25393a42",
   "metadata": {},
   "outputs": [],
   "source": []
  },
  {
   "cell_type": "raw",
   "id": "01bf6868",
   "metadata": {},
   "source": [
    "Question:-5. How is the local scope of a class different from that of a function?\n",
    "\n",
    "Answer:- Local variables have Function Scope: They can only be accessed from within the function. Since local variables are only recognized inside their functions, variables with the same name can be used in different functions. Local variables are created when a function starts, and deleted when the function is completed.\n",
    "\n",
    "A variable's scope is the range of the script where it is visible. Variables have either global or local scope. A global variable exists only once in a script, and is visible in every function. A local variable, however, has a limited scope: it exists only within the block that it is declared in.\n",
    "\n",
    "Global variables are variables declared outside a function. Local variables are variables declared inside a function. While global variables cannot be directly changed in a function, you can use the global keyword to create a function that will change the value of a global variable"
   ]
  },
  {
   "cell_type": "code",
   "execution_count": null,
   "id": "c4e8370a",
   "metadata": {},
   "outputs": [],
   "source": []
  }
 ],
 "metadata": {
  "kernelspec": {
   "display_name": "Python 3 (ipykernel)",
   "language": "python",
   "name": "python3"
  },
  "language_info": {
   "codemirror_mode": {
    "name": "ipython",
    "version": 3
   },
   "file_extension": ".py",
   "mimetype": "text/x-python",
   "name": "python",
   "nbconvert_exporter": "python",
   "pygments_lexer": "ipython3",
   "version": "3.9.7"
  }
 },
 "nbformat": 4,
 "nbformat_minor": 5
}
