{
 "cells": [
  {
   "cell_type": "markdown",
   "id": "92e168d8",
   "metadata": {},
   "source": [
    "Question:-Q1. What is the distinction between a numpy array and a pandas data frame? Is there a way to\n",
    "convert between the two if there is?\n",
    "\n",
    "Answer:-DataFrame is a two-dimensional, tabular, mutable data structure in Python that can store tabular data containing objects of different data types. A DataFrame has labeled axes in the form of rows and columns. DataFrames are useful tools in data pre-processing as it provides useful methods for data handling.DataFrames are also very useful for creating pivot tables and plotting with Matplotlib.\n",
    "\n",
    "The major differences between DataFrame and Nummy Array are listed below:\n",
    "\n",
    "Numpy arrays can be multi-dimensional whereas DataFrame can only be two-dimensional.\n",
    "Arrays contain similar types of objects or elements whereas DataFrame can have objects or multiple or similar data types.\n",
    "Both array and DataFrames are mutable.\n",
    "Elements in an array can be accessed using only integer positions whereas elements in a DataFrame can be accessed using both integer and index positions.\n",
    "DataFrames are mostly in the form of SQL tables and are associated with tabular data whereas arrays are associated with numerical data and computation.\n",
    "DataFrames can deal with dynamic data and mixed data types whereas arrays do not have the flexibility to handle such data.\n",
    "Numpy arrays are specifically used when complex scientific computation has to be performed whereas DataFrames are used mostly in data pre-processing. Although both of these data structures play a very important role in data analysis\n",
    "\n",
    "To convert an array to a dataframe with Python you need to 1) have your NumPy array (e.g., np_array), and 2) use the pd. DataFrame() constructor like this: df = pd. DataFrame(np_array, columns=['Column1', 'Column2']) . Remember, that each column in your NumPy array needs to be named with columns."
   ]
  },
  {
   "cell_type": "markdown",
   "id": "b92f7754",
   "metadata": {},
   "source": [
    "Question:-Q2. What can go wrong when an user enters in a stock-ticker symbol, and how do you handle it?\n",
    "\n",
    "Answer:-A ticker symbol or stock symbol is an abbreviation used to uniquely identify publicly traded shares of a particular stock on a particular stock market.\n",
    "A ticker symbol is the grouping of a specific set of characters that represent and identify a public security listed on an exchange.\n",
    "The ticker symbol of an acquired company usually changes to the acquirer's after the completion of a merger.\n",
    "A company that changes its name may change its ticker.\n",
    "When companies are delisted from their exchanges, the symbol changes.\n",
    "Investors don't need to do anything after a ticker symbol changes.\n",
    "Ticker symbols help investors identify companies when they're doing research or making trades. But, like everything else, these symbols aren't always static. They can change for several different reasons:\n",
    "\n",
    "The company merges with another corporation\n",
    "The company changes its name\n",
    "The company delists from its exchange\n",
    "A ticker symbol change really means nothing to you, the investor, in the grand scheme of things. The change doesn't do anything to markets or to the way you execute trades. Since everything is electronic, your trading platform or broker will already update your portfolio to include the new ticker symbol."
   ]
  },
  {
   "cell_type": "markdown",
   "id": "7f2878f0",
   "metadata": {},
   "source": [
    "Question:-Q3. Identify some of the plotting techniques that are used to produce a stock-market chart.\n",
    "\n",
    "Answer:-there are four types of stock charts that are principally used in technical analysis. These are:\n",
    "\n",
    "Line charts: A line chart is the figure that, perhaps, automatically comes to mind when you think of a chart. The line chart has the stock price or trading volume information on the vertical or y-axis and the corresponding time period on the horizontal or x-axis). Trading volumes refer to the number of stocks of a company that were bought and sold in the market on a particular day. The closing stock price is commonly used for the construction of a line chart.\n",
    "Once the two axes have been labelled, preparation of a line chart is a two-step process. In the first step, you take a particular date and plot the closing stock price as on that date on the graph. For this, you’ll put a dot on the chart in such a way that it is above the concerned date and alongside the corresponding stock price.\n",
    "\n",
    "Let’s suppose that the closing stock price on December 31, 2014 was Rs 120. For plotting it, you’ll put a dot in such a way that it is simultaneously above the marking for that date on the x-axis, and alongside the mark that says Rs 120 on the y-axis. You will do this for all dates. In the second step, you will connect all the dots plotted with a line. That’s it! You have your line chart.\n",
    "\n",
    "Bar charts: A bar chart is similar to a line chart. However, it is much more informative. Instead of a dot, each marking on a bar chart is in the shape of a vertical line with two horizontal lines protruding out of it, on either side. The top end of each vertical line signifies the highest price the stock traded at during a day while the bottom point signifies the lowest price at which it traded at during a day. The horizontal line to the left signifies the price at which the stock opened the trading day. The one on the right signifies the price at which it closed the trading day. As such, each mark on a bar chart tells you four things. An illustration of the marks used on a bar chart is given below:\n",
    "A bar chart is more advantageous than a line chart because in addition to prices, it also reflects price volatility. Charts that show what kind of trading happened that day are called Intraday charts. The longer a line is, the higher is the difference between opening and closing prices. This means higher volatility. You should be interested in knowing about volatility because high volatility means high risk. After all, how comfortable would you be about investing in a stock whose price changes frequently and sharply?\n",
    "\n",
    "Candlestick charts: Candlestick charts give the same information as bar charts. They only offer it in a better way. Like a bar chart is made up of different vertical lines, a candlestick chart is made up of rectangular blocks with lines coming out of it on both sides. The line at the upper end signifies the day’s highest trading price. The line at the lower end signifies the day’s lowest trading price. The day’s trading can be shown in Intraday charts. As for the block itself (called the body), the upper and the lower ends signify the day’s opening and closing price. The one that is higher of the two, is at the top, while the other one is at the bottom of the body.\n",
    "What makes candlestick charts an improvement over bar charts is that they give information about volatility throughout the period under consideration. Bar charts only display volatility that occurs within each trading day. Candles on a candlestick chart are of two shades-light and dark. On days when the opening price was greater than the closing price, they are of a lighter shade (normally white). On days when the closing price was higher than the opening price, they are of a darker shade (normally black).A single day’s trading is represented by Intraday charts. Higher the variation in colour, more volatile was the price during the period. \n",
    "\n",
    "Point and figure charts: A point and figure chart bears no resemblance with the other three kinds of charts discussed above. It was used extensively before the introduction of computers to stock analysis. These days, however, it is used by a very limited number of people. This is chiefly because it is complex to understand and provides limited information. A point and figure chart essentially displays the volatility in a stock’s price over a chosen period of time. On the vertical axis, it displays the number of times stock prices rose or fell to a particular extent. On the horizontal axis, it marks time intervals. Markings on the chart are exclusively in the form of X’s and O’s. X’s represent the number of times the stock rose by the specified limit, while O’s represent the number of times it fell by it. The specified amount used is called box size. It is directly related to the difference between markings on the y-axis."
   ]
  },
  {
   "cell_type": "markdown",
   "id": "324cd8e5",
   "metadata": {},
   "source": [
    "Question:-Q4. Why is it essential to print a legend on a stock market chart?\n",
    "\n",
    "Answer:-A legend is a statement on a stock certificate noting restrictions on the transfer or sale of a company's stock. A stock legend is typically established due to the SEC's requirements for unregistered or restricted securities.\n",
    "By default each plot of a Stock chart has a legend, its items representing the series on the plot. In addition, the legend displays information about the points that are currently hovered over or, if none are hovered over, about the last points shown on the plot.\n",
    "\n",
    "The text of a legend item includes the name of a series and, depending on the series type, the value or values of the current or last point. The legend title, enabled by default, shows the current or last date (X-value). See Title Text Format and Item Text Format sections to learn how to format the text of title and items."
   ]
  },
  {
   "cell_type": "markdown",
   "id": "fd0ab1d4",
   "metadata": {},
   "source": [
    "Question:-Q5. What is the best way to limit the length of a pandas data frame to less than a year?\n",
    "\n",
    "Answer:-property DataFrame.size\n",
    "Return an int representing the number of elements in this object.\n",
    "\n",
    "Return the number of rows if Series. Otherwise return the number of rows times number of columns if DataFrame."
   ]
  },
  {
   "cell_type": "markdown",
   "id": "2219d0d2",
   "metadata": {},
   "source": [
    "Question:-Q6. What is the definition of a 180-day moving average?\n",
    "\n",
    "Answer:-A moving average (MA) is a technical analysis indicator that helps smooth out price action by filtering out the “noise” from random price fluctuations.\n",
    "The 180-day moving average is represented as a line on charts and represents the average price over the past 180 days. The moving average can give traders a sense regarding whether the trend is up or down, while also identifying potential support or resistance areas."
   ]
  },
  {
   "cell_type": "markdown",
   "id": "980069b9",
   "metadata": {},
   "source": [
    "Question:-Q7. Did the chapter's final example use 'indirect' importing? If so, how exactly do you do it?\n",
    "\n",
    "Answer:-A  situation in which a company buys products from someone in another country using an intermediary (= a person or organization that arranges business agreements), or a product that is bought in this way: The direct or indirect import of diamonds from the country was banned."
   ]
  }
 ],
 "metadata": {
  "kernelspec": {
   "display_name": "Python 3 (ipykernel)",
   "language": "python",
   "name": "python3"
  },
  "language_info": {
   "codemirror_mode": {
    "name": "ipython",
    "version": 3
   },
   "file_extension": ".py",
   "mimetype": "text/x-python",
   "name": "python",
   "nbconvert_exporter": "python",
   "pygments_lexer": "ipython3",
   "version": "3.9.7"
  }
 },
 "nbformat": 4,
 "nbformat_minor": 5
}
