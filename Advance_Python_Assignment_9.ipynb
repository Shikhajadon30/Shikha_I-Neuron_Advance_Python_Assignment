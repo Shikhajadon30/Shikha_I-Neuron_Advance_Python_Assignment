{
 "cells": [
  {
   "cell_type": "markdown",
   "id": "4dcf32da",
   "metadata": {},
   "source": [
    "Question:- Q1. In Python 3.X, what are the names and functions of string object types?\n",
    "\n",
    "Answer:- Strings are objects in Python which means that there is a set of built-in functions that you can use to manipulate strings.\n",
    "Method\t          Description\n",
    "capitalize()   Converts the first character to upper case\n",
    "casefold()\t   Converts string into lower case\n",
    "center()\t   Returns a centered string\n",
    "count()\t       Returns the number of times a specified value occurs in a string\n",
    "encode()\tReturns an encoded version of the string\n",
    "endswith()\tReturns true if the string ends with the specified value\n",
    "expandtabs()\tSets the tab size of the string\n",
    "find()\tSearches the string for a specified value and returns the position of where it was found\n",
    "format()\tFormats specified values in a string\n",
    "format_map()\tFormats specified values in a string\n",
    "index()\tSearches the string for a specified value and returns the position of where it was found\n",
    "isalnum()\tReturns True if all characters in the string are alphanumeric\n",
    "isalpha()\tReturns True if all characters in the string are in the alphabet\n",
    "isascii()\tReturns True if all characters in the string are ascii characters\n",
    "isdecimal()\tReturns True if all characters in the string are decimals\n",
    "isdigit()\tReturns True if all characters in the string are digits\n",
    "isidentifier()\tReturns True if the string is an identifier\n",
    "islower()\tReturns True if all characters in the string are lower case\n",
    "isnumeric()\tReturns True if all characters in the string are numeric\n",
    "isprintable()\tReturns True if all characters in the string are printable\n",
    "isspace()\tReturns True if all characters in the string are whitespaces\n",
    "istitle()\tReturns True if the string follows the rules of a title\n",
    "isupper()\tReturns True if all characters in the string are upper case\n",
    "join()\t    Converts the elements of an iterable into a string\n",
    "ljust()\t    Returns a left justified version of the string\n",
    "lower()\t    Converts a string into lower case\n",
    "lstrip()\tReturns a left trim version of the string\n",
    "maketrans()\tReturns a translation table to be used in translations\n",
    "partition()\tReturns a tuple where the string is parted into three parts\n",
    "replace()\tReturns a string where a specified value is replaced with a specified value\n",
    "rfind()\t    Searches the string for a specified value and returns the last position of where it was found\n",
    "rindex()\tSearches the string for a specified value and returns the last position of where it was found\n",
    "rjust()\t    Returns a right justified version of the string\n",
    "rpartition()\tReturns a tuple where the string is parted into three parts\n",
    "rsplit()\tSplits the string at the specified separator, and returns a list\n",
    "rstrip()\tReturns a right trim version of the string\n",
    "split()  \tSplits the string at the specified separator, and returns a list\n",
    "splitlines()\tSplits the string at line breaks and returns a list\n",
    "startswith()\tReturns true if the string starts with the specified value\n",
    "strip()  \tReturns a trimmed version of the string\n",
    "swapcase()\tSwaps cases, lower case becomes upper case and vice versa\n",
    "title()  \tConverts the first character of each word to upper case\n",
    "translate() \tReturns a translated string\n",
    "upper() \tConverts a string into upper case\n",
    "zfill()\t  Fills the string with a specified number of 0 values at the beginning\n",
    "Note: All string methods returns new values. They do not change the original string."
   ]
  },
  {
   "cell_type": "markdown",
   "id": "718d852a",
   "metadata": {},
   "source": [
    "Question:-Q2. How do the string forms in Python 3.X vary in terms of operations?\n",
    "    \n",
    "Answer:- We can provide the entire regular expression pattern by overriding the class attribute pattern. If you do this, the value must be a regular expression object with four named capturing groups. The capturing groups correspond to the rules given above, along with the invalid placeholder rule:\n",
    "\n",
    "escaped – This group matches the escape sequence, e.g. $$, in the default pattern.\n",
    "\n",
    "named – This group matches the unbraced placeholder name; it should not include the delimiter in capturing group.\n",
    "\n",
    "braced – This group matches the brace enclosed placeholder name; it should not include either the delimiter or braces in the capturing group.\n",
    "\n",
    "invalid – This group matches any other delimiter pattern (usually a single delimiter), and it should appear last in the regular expression.\n",
    "\n",
    "flags – The regular expression flags that will be applied when compiling the regular expression used for recognizing substitutions. The default value is re.IGNORECASE. Note that re.VERBOSE will always be added to the flags, so custom idpatterns must follow conventions for verbose regular expressions."
   ]
  },
  {
   "cell_type": "markdown",
   "id": "01ef4399",
   "metadata": {},
   "source": [
    "Question:- Q3. In 3.X, how do you put non-ASCII Unicode characters in a string?\n",
    "\n",
    "Answer:-In order to use non-ASCII characters, Python requires explicit encoding and decoding of strings into Unicode. In IBM® SPSS® Modeler, Python scripts are assumed to be encoded in UTF-8, which is a standard Unicode encoding that supports non-ASCII characters. The following script will compile because the Python compiler has been set to UTF-8 by SPSS Modeler.\n",
    "\n",
    "Scripting example showing Japanese characters. The node that is created has an incorrect label.\n",
    "However, the resulting node will have an incorrect label."
   ]
  },
  {
   "cell_type": "markdown",
   "id": "44f3bc52",
   "metadata": {},
   "source": [
    "Question:-Q4. In Python 3.X, what are the key differences between text-mode and binary-mode files?\n",
    "\n",
    "Answer:-The main difference between Binary file and text file is the format of contents within the the file.\n",
    "And second reason is the extension of the files.\n",
    "\n",
    "The extension of binary file will be .bin and that for text file will be .txt\n",
    "\n",
    "Binary file contains the data in the form of 0 and 1(series of binary values) and text files contains the data in the form of stream of characters.In general binary files are identified as executable files.But binary files are not in readable form as like text file.\n",
    "Text files are used to store data more user friendly. Binary files are used to store data more compactly. In the text file, a special character whose ASCII value is 26 inserted after the last character to mark the end of file. In the binary file no such character is present.\n"
   ]
  },
  {
   "cell_type": "markdown",
   "id": "89c115d2",
   "metadata": {},
   "source": [
    "Question:-Q5. How can you interpret a Unicode text file containing text encoded in a different encoding than\n",
    "your platform's default?\n",
    "\n",
    "Answer:- Unicode encodings UTF-8, UTF-16, and UTF-32?\n",
    "We now know that Unicode is an international standard that encodes every known character to a unique number. Then the next question is how do we move these unique numbers around the internet? You already know the answer! Using bytes of information.\n",
    "\n",
    "UTF-8: It uses 1, 2, 3 or 4 bytes to encode every code point. It is backwards compatible with ASCII. All English characters just need 1 byte — which is quite efficient. We only need more bytes if we are sending non-English characters.\n",
    "It is the most popular form of encoding, and is by default the encoding in Python 3. In Python 2, the default encoding is ASCII (unfortunately).\n",
    "\n",
    "UTF-16 is variable 2 or 4 bytes. This encoding is great for Asian text as most of it can be encoded in 2 bytes each. It’s bad for English as all English characters also need 2 bytes here.\n",
    "\n",
    "UTF-32 is fixed 4 bytes. All characters are encoded in 4 bytes so it needs a lot of memory. It is not used very often.\n",
    "\n",
    "We need encode method to convert unicode code points to bytes. This will happen typically during writing string data to a CSV or JSON file for example.\n",
    "We need decode method to convert bytes to unicode code points. This will typically happen during reading data from a file into strings."
   ]
  },
  {
   "cell_type": "markdown",
   "id": "e8f67c6d",
   "metadata": {},
   "source": [
    "Question:-Q6. What is the best way to make a Unicode text file in a particular encoding format?\n",
    "\n",
    "Answer:-USE str.encode() AND file.write() TO WRITE UNICODE TEXT TO A TEXT FILE\n",
    "Call str.encode(encoding) with encoding set to \"utf8\" to encode str. Call open(file, mode) to open a file with mode set to \"wb\" . \"wb\" writes to files in binary mode and preserves UTF-8 format. Call file.write(data) to write data to the file.\n",
    "\n",
    "unicode_text = u'ʑʒʓʔʕʗʘʙʚʛʜʝʞ'\n",
    "encoded_unicode = unicode_text.encode(\"utf8\")\n",
    "\n",
    "a_file = open(\"textfile.txt\", \"wb\")\n",
    "a_file.write(encoded_unicode)\n",
    "\n",
    "a_file = open(\"textfile.txt\", \"r\")\n",
    "r reads contents of a file\n",
    "\n",
    "contents = a_file.read()\n",
    "\n",
    "print(contents)\n",
    "OUTPUT\n",
    "ʑʒʓʔʕʗʘʙʚʛʜʝʞ\n"
   ]
  },
  {
   "cell_type": "markdown",
   "id": "5f54026f",
   "metadata": {},
   "source": [
    "Question:-Q7. What qualifies ASCII text as a form of Unicode text?\n",
    "\n",
    "Answer:-The first 128 Unicode code points represent the ASCII characters, which means that any ASCII text is also a UTF-8 text. UCS-2 uses two bytes (16 bits) for each character but can only encode the first 65,536 code points, the so-called Basic Multilingual Plane (BMP)."
   ]
  },
  {
   "cell_type": "markdown",
   "id": "8a04df20",
   "metadata": {},
   "source": [
    "Question:-Q8. How much of an effect does the change in string types in Python 3.X have on your code?\n",
    "    \n",
    "Answer:-Changing any data type into a String\n",
    "There are two ways for changing any data type into a String in Python :\n",
    "\n",
    "Using the str() function\n",
    "Using the __str__() function\n",
    "Method 1 : Using the str() function\n",
    "Any built-in data type can be converted into its string representation by the str() function. Built-in data type in python include:- int, float, complex, list, tuple, dict etc.\n",
    "Syntax :\n",
    "\n",
    "str(built-in data type)\n",
    "\n",
    "Method 2 : Defining __str__() function for a user defined class to be converted to string representation. For a user defined class to be converted to string representation, __str__() function needs to be defined in it.\n",
    "\n",
    "No major effect by the change in string types in Python 3.X have on code."
   ]
  }
 ],
 "metadata": {
  "kernelspec": {
   "display_name": "Python 3 (ipykernel)",
   "language": "python",
   "name": "python3"
  },
  "language_info": {
   "codemirror_mode": {
    "name": "ipython",
    "version": 3
   },
   "file_extension": ".py",
   "mimetype": "text/x-python",
   "name": "python",
   "nbconvert_exporter": "python",
   "pygments_lexer": "ipython3",
   "version": "3.9.7"
  }
 },
 "nbformat": 4,
 "nbformat_minor": 5
}
