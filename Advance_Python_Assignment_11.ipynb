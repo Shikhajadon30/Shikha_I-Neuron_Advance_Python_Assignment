{
 "cells": [
  {
   "cell_type": "markdown",
   "id": "7f2ee33d",
   "metadata": {},
   "source": [
    "Question:- Q1. What is the concept of a metaclass?\n",
    "    \n",
    "Answeer:- A metaclass in Python is a class of a class that defines how a class behaves. A class is itself an instance of a metaclass. A class in Python defines how the instance of the class will behave. In order to understand metaclasses well, one needs to have prior experience working with Python classes."
   ]
  },
  {
   "cell_type": "markdown",
   "id": "68196482",
   "metadata": {},
   "source": [
    "Question:- Q2. What is the best way to declare a class's metaclass?\n",
    "\n",
    "Answer:-In Python, we can customize the class creation process by passing the metaclass keyword in the class definition. This can also be done by inheriting a class that has already passed in this keyword. the type of MyMeta class is type and that the type of MyClass and MySubClass is MyMeta ."
   ]
  },
  {
   "cell_type": "markdown",
   "id": "e175c52e",
   "metadata": {},
   "source": [
    "Question:-Q3. How do class decorators overlap with metaclasses for handling classes?\n",
    "\n",
    "Answer:-Decorators are much, much simpler and more limited -- and therefore should be preferred whenever the desired effect can be achieved with either a metaclass or a class decorator.\n",
    "\n",
    "Anything you can do with a class decorator, you can of course do with a custom metaclass (just apply the functionality of the \"decorator function\", i.e., the one that takes a class object and modifies it, in the course of the metaclass's __new__ or __init__ that make the class object!-).\n",
    "\n",
    "There are many things you can do in a custom metaclass but not in a decorator (unless the decorator internally generates and applies a custom metaclass, of course -- but that's cheating;-)... and even then, in Python 3, there are things you can only do with a custom metaclass, not after the fact... but that's a pretty advanced sub-niche of your question, so let me give simpler examples).\n",
    "\n",
    "For example, suppose you want to make a class object X such that print X (or in Python 3 print(X) of course;-) displays peekaboo!. You cannot possibly do that without a custom metaclass, because the metaclass's override of __str__ is the crucial actor here, i.e., you need a def __str__(cls): return \"peekaboo!\" in the custom metaclass of class X."
   ]
  },
  {
   "cell_type": "markdown",
   "id": "5c0bb9ab",
   "metadata": {},
   "source": [
    "Question:-Q3. How do class decorators overlap with metaclasses for handling classes?\n",
    "\n",
    "Answer:-Decorators are much, much simpler and more limited -- and therefore should be preferred whenever the desired effect can be achieved with either a metaclass or a class decorator.\n",
    "\n",
    "Anything you can do with a class decorator, you can of course do with a custom metaclass (just apply the functionality of the \"decorator function\", i.e., the one that takes a class object and modifies it, in the course of the metaclass's __new__ or __init__ that make the class object!-).\n",
    "\n",
    "There are many things you can do in a custom metaclass but not in a decorator (unless the decorator internally generates and applies a custom metaclass, of course -- but that's cheating;-)... and even then, in Python 3, there are things you can only do with a custom metaclass, not after the fact... but that's a pretty advanced sub-niche of your question, so let me give simpler examples).\n",
    "\n",
    "For example, suppose you want to make a class object X such that print X (or in Python 3 print(X) of course;-) displays peekaboo!. You cannot possibly do that without a custom metaclass, because the metaclass's override of __str__ is the crucial actor here, i.e., you need a def __str__(cls): return \"peekaboo!\" in the custom metaclass of class X."
   ]
  }
 ],
 "metadata": {
  "kernelspec": {
   "display_name": "Python 3 (ipykernel)",
   "language": "python",
   "name": "python3"
  },
  "language_info": {
   "codemirror_mode": {
    "name": "ipython",
    "version": 3
   },
   "file_extension": ".py",
   "mimetype": "text/x-python",
   "name": "python",
   "nbconvert_exporter": "python",
   "pygments_lexer": "ipython3",
   "version": "3.9.7"
  }
 },
 "nbformat": 4,
 "nbformat_minor": 5
}
